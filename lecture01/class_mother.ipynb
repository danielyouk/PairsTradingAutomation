{
 "cells": [
  {
   "cell_type": "code",
   "execution_count": 9,
   "metadata": {},
   "outputs": [],
   "source": [
    "class Mother:\n",
    "    def __init__(self, mother_name):\n",
    "        self.mother_name = mother_name\n",
    "\n",
    "    def mother_skills(self):\n",
    "        return \"Cooking, Art\"\n",
    "\n",
    "class Father:\n",
    "    def __init__(self, father_name):\n",
    "        self.father_name = father_name\n",
    "\n",
    "    def father_skills(self):\n",
    "        return \"Programming, Teaching\"\n",
    "\n",
    "class Child(Mother, Father):\n",
    "    def __init__(self, child_name, mother_name, father_name):\n",
    "        # 부모 클래스의 생성자에 name 매개변수를 전달\n",
    "        Mother.__init__(self, mother_name)\n",
    "        Father.__init__(self, father_name)\n",
    "        self.child_name = child_name\n",
    "\n",
    "    def get_parent_skills(self):\n",
    "        return f\"My name is: {self.child_name}, Mother's Skills: {self.mother_skills()}, Father's Skills: {self.father_skills()}\""
   ]
  },
  {
   "cell_type": "code",
   "execution_count": 10,
   "metadata": {},
   "outputs": [],
   "source": [
    "Childobj = Child(\"Allie\", \"Hee\", \"Daniel\")"
   ]
  },
  {
   "cell_type": "code",
   "execution_count": 11,
   "metadata": {},
   "outputs": [
    {
     "data": {
      "text/plain": [
       "\"My name is: Allie, Mother's Skills: Cooking, Art, Father's Skills: Programming, Teaching\""
      ]
     },
     "execution_count": 11,
     "metadata": {},
     "output_type": "execute_result"
    }
   ],
   "source": [
    "Childobj.get_parent_skills() # 'Mother's Skills: Cooking, Art, Father's Skills: Programming, Teaching' 출력"
   ]
  }
 ],
 "metadata": {
  "kernelspec": {
   "display_name": "myenv-mustai",
   "language": "python",
   "name": "python3"
  },
  "language_info": {
   "codemirror_mode": {
    "name": "ipython",
    "version": 3
   },
   "file_extension": ".py",
   "mimetype": "text/x-python",
   "name": "python",
   "nbconvert_exporter": "python",
   "pygments_lexer": "ipython3",
   "version": "3.11.5"
  }
 },
 "nbformat": 4,
 "nbformat_minor": 2
}
