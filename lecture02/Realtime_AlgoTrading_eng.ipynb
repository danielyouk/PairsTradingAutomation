{
 "cells": [
  {
   "cell_type": "code",
   "execution_count": 1,
   "metadata": {},
   "outputs": [],
   "source": [
    "from PairTrading_eng import *\n",
    "import pytz\n",
    "from ib_insync import *\n",
    "import datetime\n",
    "import pandas_market_calendars as mcal"
   ]
  },
  {
   "cell_type": "markdown",
   "metadata": {},
   "source": [
    "## Interactive Brokers Setting\n",
    "### Account creataion and tws desktop offline version  installation\n",
    "1. Account creation: https://www.interactivebrokers.com/en/home.php\n",
    "2. tws (Interactive Brokers Trading Workstation) desktop Installation: https://www.interactivebrokers.com/en/trading/ibkr-desktop.php\n"
   ]
  },
  {
   "cell_type": "code",
   "execution_count": 2,
   "metadata": {},
   "outputs": [
    {
     "name": "stderr",
     "output_type": "stream",
     "text": [
      "Error 1100, reqId -1: Connectivity between IB and Trader Workstation has been lost.\n",
      "Error 1100, reqId -1: Connectivity between IB and Trader Workstation has been lost.\n",
      "Error 1100, reqId -1: Connectivity between IB and Trader Workstation has been lost.\n",
      "Error 1100, reqId -1: Connectivity between IB and Trader Workstation has been lost.\n",
      "Error 1100, reqId -1: Connectivity between IB and Trader Workstation has been lost.\n",
      "Error 1100, reqId -1: Connectivity between IB and Trader Workstation has been lost.\n",
      "Error 1100, reqId -1: Connectivity between IB and Trader Workstation has been lost.\n",
      "Error 1100, reqId -1: Connectivity between IB and Trader Workstation has been lost.\n",
      "Error 1100, reqId -1: Connectivity between IB and Trader Workstation has been lost.\n",
      "Error 1100, reqId -1: Connectivity between IB and Trader Workstation has been lost.\n",
      "Error 1100, reqId -1: Connectivity between IB and Trader Workstation has been lost.\n",
      "Error 1100, reqId -1: Connectivity between IB and Trader Workstation has been lost.\n",
      "Error 1100, reqId -1: Connectivity between IB and Trader Workstation has been lost.\n",
      "Error 1100, reqId -1: Connectivity between IB and Trader Workstation has been lost.\n",
      "Error 1100, reqId -1: Connectivity between IB and Trader Workstation has been lost.\n",
      "Error 1100, reqId -1: Connectivity between IB and Trader Workstation has been lost.\n",
      "Error 1100, reqId -1: Connectivity between IB and Trader Workstation has been lost.\n",
      "Error 1100, reqId -1: Connectivity between IB and Trader Workstation has been lost.\n",
      "Error 1100, reqId -1: Connectivity between IB and Trader Workstation has been lost.\n",
      "Error 1100, reqId -1: Connectivity between IB and Trader Workstation has been lost.\n",
      "Error 1102, reqId -1: Connectivity between IB and Trader Workstation has been restored - data maintained. All data farms are connected: usfarm.nj; cashfarm; usfarm; ushmds; secdefil.\n"
     ]
    }
   ],
   "source": [
    "try:\n",
    "    if ib.isConnected():\n",
    "        print('Connection is already established')\n",
    "except NameError:\n",
    "    util.startLoop()  # needed for Jupyter\n",
    "    ib = IB()\n",
    "    ib.connect()\n"
   ]
  },
  {
   "cell_type": "code",
   "execution_count": 3,
   "metadata": {},
   "outputs": [
    {
     "name": "stdout",
     "output_type": "stream",
     "text": [
      "757599.48\n"
     ]
    }
   ],
   "source": [
    "accountSummary = pd.DataFrame(ib.accountSummary())\n",
    "AvailableFunds = float(accountSummary[accountSummary[\"tag\"] == \"AvailableFunds\"][\"value\"].iloc[0])\n",
    "BuyingPower = float(accountSummary[accountSummary[\"tag\"] == \"BuyingPower\"][\"value\"].iloc[0])\n",
    "\n",
    "print(BuyingPower)"
   ]
  },
  {
   "cell_type": "markdown",
   "metadata": {},
   "source": [
    "## Importing Data from a Kaggle Notebook\n",
    "\n",
    "### Preparation Steps\n",
    "\n",
    "Before downloading data from a Kaggle notebook, ensure that the Kaggle API is installed and configured:\n",
    "\n",
    "1. **Install the Kaggle API**:\n",
    "   ```bash\n",
    "   pip install kaggle\n",
    "2. Download the kaggle.json file from the Kaggle account.\n",
    "3. Place the kaggle.json file in the appropriate directory:\n",
    "   - Mac/Linux: /username/.kaggle\n",
    "   - Windows: C:\\Users\\Your-Username\\\\.kaggle\n",
    "4. Should download files from kaggle output to local folder\n",
    "   ```bash\n",
    "   kaggle kernels output dtmanager1979/stock-trading-eda-scheduled -p /path/to/dest\n",
    "5. The notebook can be found [here](https://www.kaggle.com/code/dtmanager1979/stock-trading-eda-scheduled/output). \n",
    "For instructional purposes, the algorithm has been slightly simplified, but custom algorithms can be created if necessary. \n"
   ]
  },
  {
   "cell_type": "code",
   "execution_count": 4,
   "metadata": {},
   "outputs": [],
   "source": [
    "# !kaggle kernels output dtmanager1979/stock-trading-eda-scheduled -p /Users/songyouk/PairsTrading\n",
    "# !kaggle kernels output dtmanager1979/stock-trading-eda-scheduled -p C:\\Users\\dyouk\\myVision\\PairsTrading"
   ]
  },
  {
   "cell_type": "code",
   "execution_count": 5,
   "metadata": {},
   "outputs": [],
   "source": [
    "if os.path.exists('../data/last_pairs_update.txt'):\n",
    "    with open(\"../data/last_pairs_update.txt\", 'r') as f:\n",
    "        last_pairs_update = datetime.datetime.strptime(f.read(), '%Y-%m-%d %H:%M:%S.%f')\n",
    "        \n",
    "else:\n",
    "    last_pairs_update = datetime.datetime.now() - datetime.timedelta(days=7) # set dummy last_pairs_update\n",
    "\n",
    "time_diff = datetime.datetime.now() - last_pairs_update\n",
    "\n",
    "# check if the last update is eariler than 5 days ago and also the day is Monday or Tuesday or Wednesday\n",
    "if time_diff >= datetime.timedelta(days=5) and (datetime.datetime.now().weekday() in [0, 1, 2]): \n",
    "    # update the path based on your folder structure and your operating system. Note that in Windows, you need to specify the path with double backslashes.\n",
    "    # if .. is not working, try with full path\n",
    "    os.system('kaggle kernels output dtmanager1979/stock-trading-eda-scheduled -p ../')\n",
    "    # os.system('kaggle kernels output dtmanager1979/stock-trading-eda-scheduled -p ..\\\\')\n",
    "    last_pairs_update = datetime.datetime.now()\n",
    "    with open(\"../data/last_pairs_update.txt\", 'w') as f:\n",
    "        f.write(str(last_pairs_update))"
   ]
  },
  {
   "cell_type": "markdown",
   "metadata": {},
   "source": [
    "should pip install nbformat"
   ]
  },
  {
   "cell_type": "markdown",
   "metadata": {},
   "source": [
    "### get the list of open stocks"
   ]
  },
  {
   "cell_type": "code",
   "execution_count": 6,
   "metadata": {},
   "outputs": [],
   "source": [
    "df_sel= pd.read_pickle(\"../data/df_sel.pkl\")[[\"median_window\", \"median_zscore_threshold\"]]\n",
    "# df_sel = pd.DataFrame(data)[[\"median_window\", \"median_zscore_threshold\"]]\n",
    "stocks = [stock for pair in df_sel.index for stock in pair]"
   ]
  },
  {
   "cell_type": "code",
   "execution_count": 7,
   "metadata": {},
   "outputs": [],
   "source": [
    "if len(df_sel) > 7:\n",
    "    df_sel = df_sel.iloc[0:7,:]"
   ]
  },
  {
   "cell_type": "code",
   "execution_count": 8,
   "metadata": {},
   "outputs": [
    {
     "name": "stdout",
     "output_type": "stream",
     "text": [
      "['NWSA', 'ICE']\n"
     ]
    }
   ],
   "source": [
    "positions = ib.positions()\n",
    "df_current_positions = pd.DataFrame(positions)\n",
    "stocks_open = []\n",
    "if len(df_current_positions) == 0:\n",
    "    print(\"No open positions\")\n",
    "else:\n",
    "    df_current_positions['symbol'] = df_current_positions['contract'].apply(lambda x: x.symbol)\n",
    "    stocks_open = df_current_positions['symbol'].to_list()\n",
    "    print(stocks_open)"
   ]
  },
  {
   "cell_type": "markdown",
   "metadata": {},
   "source": [
    "## Close the stocks which are open but not included in new portfolio\n",
    "If the open stocks is not included in stocks to trade, then close it"
   ]
  },
  {
   "cell_type": "code",
   "execution_count": 9,
   "metadata": {},
   "outputs": [
    {
     "name": "stdout",
     "output_type": "stream",
     "text": [
      "[]\n"
     ]
    }
   ],
   "source": [
    "stocks_to_trade = [stock for pair in df_sel.index.to_list() for stock in pair]\n",
    "stocks_to_close = [stock for stock in stocks_open if stock not in stocks_to_trade]\n",
    "print(stocks_to_close)"
   ]
  },
  {
   "cell_type": "code",
   "execution_count": 10,
   "metadata": {},
   "outputs": [
    {
     "name": "stdout",
     "output_type": "stream",
     "text": [
      "     account                                           contract  position  \\\n",
      "0  DU9209737  Stock(conId=129348126, symbol='NWSA', exchange...   -3085.0   \n",
      "1  DU9209737  Stock(conId=136370275, symbol='ICE', exchange=...     605.0   \n",
      "\n",
      "      avgCost symbol  \n",
      "0   27.214077   NWSA  \n",
      "1  133.403347    ICE  \n"
     ]
    }
   ],
   "source": [
    "print(df_current_positions)"
   ]
  },
  {
   "cell_type": "code",
   "execution_count": 11,
   "metadata": {},
   "outputs": [],
   "source": [
    "if len(df_current_positions) > 0:\n",
    "    for index, row in df_current_positions.iterrows():\n",
    "        stock = row['contract'].symbol\n",
    "        position = row['position']\n",
    "        if stock in stocks_to_close:\n",
    "            print(f\"Closing position for {stock}\")\n",
    "            contract = Stock(stock, 'SMART', 'USD')\n",
    "            ib.qualifyContracts(contract)\n",
    "            action = 'SELL' if position > 0 else 'BUY'\n",
    "            order = MarketOrder(action, abs(position))\n",
    "            trade = ib.placeOrder(contract, order)"
   ]
  },
  {
   "cell_type": "markdown",
   "metadata": {},
   "source": [
    "it's ok if there is delay to close the positions since it does not interfere of new contract!"
   ]
  },
  {
   "cell_type": "markdown",
   "metadata": {},
   "source": [
    "## Get the positions summary"
   ]
  },
  {
   "cell_type": "code",
   "execution_count": 12,
   "metadata": {},
   "outputs": [
    {
     "data": {
      "text/plain": [
       "246592.39"
      ]
     },
     "execution_count": 12,
     "metadata": {},
     "output_type": "execute_result"
    }
   ],
   "source": [
    "float(accountSummary[accountSummary[\"tag\"] == \"NetLiquidation\"][\"value\"].iloc[0])"
   ]
  },
  {
   "cell_type": "code",
   "execution_count": 13,
   "metadata": {},
   "outputs": [],
   "source": [
    "def get_positions_summary(stocks_to_trade, df_pairs_wt_paras, df_whole_intraday, df_whole, ib, margin_ratio):\n",
    "\n",
    "\n",
    "    accountSummary = pd.DataFrame(ib.accountSummary())\n",
    "    NetLiquidation = float(accountSummary[accountSummary[\"tag\"] == \"NetLiquidation\"][\"value\"].iloc[0])\n",
    "    BuyingPower = float(accountSummary[accountSummary[\"tag\"] == \"BuyingPower\"][\"value\"].iloc[0])\n",
    "    \n",
    "    \n",
    "    margin_init = NetLiquidation/len(df_pairs_wt_paras) \n",
    "    ls_current_future_positions= [PairTradingUpdatePosition(df_whole_intraday = df_whole_intraday, \n",
    "                                                    df_whole = df_whole, \n",
    "                                                    margin_init = margin_init, \n",
    "                                                    margin_ratio = margin_ratio, \n",
    "                                                    df_pairs_wt_paras = df_pairs_wt_paras, \n",
    "                                                    ib = ib,\n",
    "                                                    pair = pair).update_position_summary() for pair in df_sel.index]\n",
    "\n",
    "    df_current_future_positions = pd.DataFrame(ls_current_future_positions)\n",
    "\n",
    "    df_current_future_positions[\"stock1_order_numbers\"] = df_current_future_positions[\"stock1_future_numbers\"] - df_current_future_positions[\"stock1_current_numbers\"]\n",
    "    df_current_future_positions[\"stock2_order_numbers\"] = df_current_future_positions[\"stock2_future_numbers\"] - df_current_future_positions[\"stock2_current_numbers\"]\n",
    "\n",
    "    return df_current_future_positions"
   ]
  },
  {
   "cell_type": "code",
   "execution_count": 14,
   "metadata": {},
   "outputs": [],
   "source": [
    "while True:\n",
    "    if (len(stocks)>=1):\n",
    "        break"
   ]
  },
  {
   "cell_type": "markdown",
   "metadata": {},
   "source": [
    "## Realtime Trading"
   ]
  },
  {
   "cell_type": "code",
   "execution_count": 15,
   "metadata": {},
   "outputs": [],
   "source": [
    "# Define the New York timezone\n",
    "new_york_tz = pytz.timezone('America/New_York')\n",
    "\n",
    "# Get current time in New York, subtract 10 days, and set time to 4 PM\n",
    "dummy_trading_time = datetime.datetime.now(new_york_tz).replace(hour=16, minute=0, second=0, microsecond=0) - timedelta(days=7)\n",
    "\n",
    "df_trading_time = df_sel.copy()\n",
    "# apply the new column last_trading_time to yesterday's 4 PM based on new york time zone\n",
    "df_trading_time['last_trading_time'] = dummy_trading_time"
   ]
  },
  {
   "cell_type": "code",
   "execution_count": 16,
   "metadata": {},
   "outputs": [],
   "source": [
    "def ib_order_execute(df_current_future_positions, df_trading_time):\n",
    "    for index, row in df_current_future_positions.iterrows():\n",
    "        stock1 = row['pair'][0]\n",
    "        stock2 = row['pair'][1]\n",
    "        stock1_order_numbers = row['stock1_order_numbers']\n",
    "        stock2_order_numbers = row['stock2_order_numbers']\n",
    "        \n",
    "\n",
    "        now = datetime.datetime.now(pytz.timezone('America/New_York'))\n",
    "        start_time = now.replace(hour=9, minute=30, second=0, microsecond=0)\n",
    "        end_time = now.replace(hour=16, minute=0, second=0, microsecond=0)\n",
    "        \n",
    "        last_trading_time = df_trading_time.loc[df_trading_time.index == (stock1, stock2), 'last_trading_time'].iloc[-1]\n",
    "        if start_time <= now <= end_time:\n",
    "            # Check if the last trading time is on the same day as the current day and time difference is at least 10 minutes\n",
    "            if ((last_trading_time.date() == now.date()) and (now - last_trading_time) >= datetime.timedelta(minutes=60)) or (last_trading_time.date() != now.date()):\n",
    "                \n",
    "                \n",
    "                if (stock1_order_numbers > 5) and (stock2_order_numbers < -5):\n",
    "                    print(f\"Buying {stock1_order_numbers} of {stock1}\")\n",
    "                    print(f\"Selling {stock2_order_numbers} of {stock2}\")  \n",
    "                    contract_stock1 = Stock(stock1, 'SMART', 'USD')\n",
    "                    ib.qualifyContracts(contract_stock1)\n",
    "                    order_stock1 = MarketOrder('BUY', abs(stock1_order_numbers))\n",
    "                    trade_stock1 = ib.placeOrder(contract_stock1, order_stock1)                \n",
    "  \n",
    "                    contract_stock2 = Stock(stock2, 'SMART', 'USD')\n",
    "                    ib.qualifyContracts(contract_stock2)\n",
    "                    order_stock2 = MarketOrder('SELL', abs(stock2_order_numbers))\n",
    "                    trade_stock2 = ib.placeOrder(contract_stock2, order_stock2)\n",
    "                    df_trading_time.loc[df_trading_time.index == (stock1, stock2), 'last_trading_time'] = datetime.datetime.now(pytz.timezone('America/New_York'))\n",
    "                    \n",
    "                elif (stock1_order_numbers < -5) and (stock2_order_numbers > 5):\n",
    "                    print(f\"Selling {stock1_order_numbers} of {stock1}\")\n",
    "                    print(f\"Buying {stock2_order_numbers} of {stock2}\")  \n",
    "                    contract_stock1 = Stock(stock1, 'SMART', 'USD')\n",
    "                    ib.qualifyContracts(contract_stock1)\n",
    "                    order_stock1 = MarketOrder('SELL', abs(stock1_order_numbers))\n",
    "                    trade_stock1 = ib.placeOrder(contract_stock1, order_stock1)                \n",
    "  \n",
    "                    contract_stock2 = Stock(stock2, 'SMART', 'USD')\n",
    "                    ib.qualifyContracts(contract_stock2)\n",
    "                    order_stock2 = MarketOrder('BUY', abs(stock2_order_numbers))\n",
    "                    trade_stock2 = ib.placeOrder(contract_stock2, order_stock2)\n",
    "                    df_trading_time.loc[df_trading_time.index == (stock1, stock2), 'last_trading_time'] = datetime.datetime.now(pytz.timezone('America/New_York'))"
   ]
  },
  {
   "cell_type": "code",
   "execution_count": 17,
   "metadata": {},
   "outputs": [],
   "source": [
    "import pandas_market_calendars as mcal\n",
    "\n",
    "while True:\n",
    "    now = datetime.datetime.now(pytz.timezone('America/New_York'))\n",
    "    schedule = mcal.get_calendar('NYSE').schedule(start_date=now, end_date=now)\n",
    "    # if the schedule is empty, it is not a trading day so out from while loop\n",
    "    if len(schedule) == 0 or now.hour > 16:\n",
    "        break\n",
    "    stocks = [stock for pair in df_sel.index for stock in pair]\n",
    "    data_1d_1y = yf.download(tickers = stocks, period=\"1y\",interval=\"1d\", progress = False)['Adj Close']\n",
    "    data_5m_60d = yf.download(tickers = stocks, period=\"60d\",interval=\"5m\", progress = False)['Adj Close']\n",
    "    df_current_future_positions = get_positions_summary(stocks_to_trade = stocks_to_trade, df_pairs_wt_paras = df_sel, df_whole_intraday = data_5m_60d, df_whole = data_1d_1y, ib = ib, \n",
    "                                                        margin_ratio = 0.25)\n",
    "    ib_order_execute(df_current_future_positions = df_current_future_positions, df_trading_time = df_trading_time)\n",
    "    ib.sleep(60)\n",
    "    # if the time is after 4 PM, break the loop\n",
    "    if now.hour > 16:\n",
    "        break"
   ]
  }
 ],
 "metadata": {
  "kernelspec": {
   "display_name": "pairs-trading",
   "language": "python",
   "name": "python3"
  },
  "language_info": {
   "codemirror_mode": {
    "name": "ipython",
    "version": 3
   },
   "file_extension": ".py",
   "mimetype": "text/x-python",
   "name": "python",
   "nbconvert_exporter": "python",
   "pygments_lexer": "ipython3",
   "version": "3.11.8"
  }
 },
 "nbformat": 4,
 "nbformat_minor": 2
}
