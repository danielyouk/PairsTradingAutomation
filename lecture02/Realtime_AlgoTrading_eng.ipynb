{
 "cells": [
  {
   "cell_type": "code",
   "execution_count": 1,
   "metadata": {},
   "outputs": [],
   "source": [
    "from PairTrading_eng import *\n",
    "import pytz\n",
    "from ib_insync import *\n",
    "import datetime\n",
    "import pandas_market_calendars as mcal"
   ]
  },
  {
   "cell_type": "markdown",
   "metadata": {},
   "source": [
    "## Interactive Brokers 설정\n",
    "### 회원가입 및 tws 데스크탑 설치\n",
    "1. 회원가입: https://www.interactivebrokers.com/en/home.php\n",
    "2. tws (Interactive Brokers Trading Workstation) desktop 설치: https://www.interactivebrokers.com/en/trading/ibkr-desktop.php\n"
   ]
  },
  {
   "cell_type": "markdown",
   "metadata": {},
   "source": [
    "아래의 ib.connect()는 한 번 만 실행되어야 합니다. 만약 두 번 이상 실행이 되어서 에러가 발생되는 경우에는 커널을 restart해야 됩니다.\n",
    "커널을 restart해도 에러가 유지되면 tws desktop에서 로그 아웃한 이후에 다시 로그온, 그 이후에 커널 restart, 그 이후에 아래의 ib.connect()를 재실행해야 합니다. "
   ]
  },
  {
   "cell_type": "code",
   "execution_count": 2,
   "metadata": {},
   "outputs": [],
   "source": [
    "try:\n",
    "    if ib.isConnected():\n",
    "        print('Connection is already established')\n",
    "except NameError:\n",
    "    util.startLoop()  # needed for Jupyter\n",
    "    ib = IB()\n",
    "    ib.connect()\n"
   ]
  },
  {
   "cell_type": "code",
   "execution_count": 3,
   "metadata": {},
   "outputs": [
    {
     "name": "stdout",
     "output_type": "stream",
     "text": [
      "984707.16\n"
     ]
    }
   ],
   "source": [
    "accountSummary = pd.DataFrame(ib.accountSummary())\n",
    "AvailableFunds = float(accountSummary[accountSummary[\"tag\"] == \"AvailableFunds\"][\"value\"].iloc[0])\n",
    "BuyingPower = float(accountSummary[accountSummary[\"tag\"] == \"BuyingPower\"][\"value\"].iloc[0])\n",
    "\n",
    "print(BuyingPower)"
   ]
  },
  {
   "cell_type": "markdown",
   "metadata": {},
   "source": [
    "## Importing Data from a Kaggle Notebook\n",
    "\n",
    "### Preparation Steps\n",
    "\n",
    "Before downloading data from a Kaggle notebook, ensure that the Kaggle API is installed and configured:\n",
    "\n",
    "1. **Install the Kaggle API**:\n",
    "   ```bash\n",
    "   pip install kaggle\n",
    "2. Download the kaggle.json file from the Kaggle account.\n",
    "3. Place the kaggle.json file in the appropriate directory:\n",
    "   - Mac/Linux: ~/.kaggle\n",
    "   - Windows: C:\\Users\\Your-Username\\\\.kaggle\n",
    "4. 폴더에 데이터를 다운로드합니다. \n",
    "   ```bash\n",
    "   kaggle kernels output dtmanager1979/stock-trading-eda-scheduled -p /path/to/dest\n",
    "5. The notebook can be found [here](https://www.kaggle.com/code/dtmanager1979/stock-trading-eda-scheduled/output). \n",
    "For instructional purposes, the algorithm has been slightly simplified, but custom algorithms can be created if necessary. \n"
   ]
  },
  {
   "cell_type": "code",
   "execution_count": 4,
   "metadata": {},
   "outputs": [],
   "source": [
    "# !kaggle kernels output dtmanager1979/stock-trading-eda-scheduled -p /Users/songyouk/PairsTrading\n",
    "# !kaggle kernels output dtmanager1979/stock-trading-eda-scheduled -p C:\\Users\\dyouk\\myVision\\PairsTrading"
   ]
  },
  {
   "cell_type": "code",
   "execution_count": 5,
   "metadata": {},
   "outputs": [
    {
     "name": "stdout",
     "output_type": "stream",
     "text": [
      "Warning: Looks like you're using an outdated API Version, please consider updating (server 1.6.14 / client 1.6.12)\n"
     ]
    }
   ],
   "source": [
    "if os.path.exists('../data/last_pairs_update.txt'):\n",
    "    with open(\"../data/last_pairs_update.txt\", 'r') as f:\n",
    "        last_pairs_update = datetime.datetime.strptime(f.read(), '%Y-%m-%d %H:%M:%S.%f')\n",
    "        \n",
    "else:\n",
    "    last_pairs_update = datetime.datetime.now() - datetime.timedelta(days=7) # set dummy last_pairs_update\n",
    "\n",
    "time_diff = datetime.datetime.now() - last_pairs_update\n",
    "\n",
    "# check if the last update is eariler than 5 days ago and also the day is Monday or Tuesday or Wednesday\n",
    "if time_diff >= datetime.timedelta(days=5) and (datetime.datetime.now().weekday() in [0, 1, 2]): \n",
    "    # update the path based on your folder structure and your operating system. Note that in Windows, you need to specify the path with double backslashes.\n",
    "    # if .. is not working, try with full path\n",
    "    os.system('kaggle kernels output dtmanager1979/stock-trading-eda-scheduled -p ../')\n",
    "    # os.system('kaggle kernels output dtmanager1979/stock-trading-eda-scheduled -p ..\\\\')\n",
    "    last_pairs_update = datetime.datetime.now()\n",
    "    with open(\"../data/last_pairs_update.txt\", 'w') as f:\n",
    "        f.write(str(last_pairs_update))"
   ]
  },
  {
   "cell_type": "markdown",
   "metadata": {},
   "source": [
    "should pip install nbformat"
   ]
  },
  {
   "cell_type": "markdown",
   "metadata": {},
   "source": [
    "### get the list of open stocks"
   ]
  },
  {
   "cell_type": "code",
   "execution_count": 16,
   "metadata": {},
   "outputs": [],
   "source": [
    "df_sel= pd.read_pickle(\"../data/df_sel.pkl\")[[\"median_window\", \"median_zscore_threshold\"]]\n",
    "stocks = [stock for pair in df_sel.index for stock in pair]"
   ]
  },
  {
   "cell_type": "code",
   "execution_count": 19,
   "metadata": {},
   "outputs": [],
   "source": [
    "if len(df_sel) > 7:\n",
    "    df_sel = df_sel.iloc[0:7,:]"
   ]
  },
  {
   "cell_type": "code",
   "execution_count": 21,
   "metadata": {},
   "outputs": [
    {
     "name": "stdout",
     "output_type": "stream",
     "text": [
      "No open positions\n"
     ]
    }
   ],
   "source": [
    "positions = ib.positions()\n",
    "df_current_positions = pd.DataFrame(positions)\n",
    "stocks_open = []\n",
    "if len(df_current_positions) == 0:\n",
    "    print(\"No open positions\")\n",
    "else:\n",
    "    df_current_positions['symbol'] = df_current_positions['contract'].apply(lambda x: x.symbol)\n",
    "    stocks_open = df_current_positions['symbol'].to_list()\n",
    "    print(stocks_open)"
   ]
  },
  {
   "cell_type": "code",
   "execution_count": 22,
   "metadata": {},
   "outputs": [
    {
     "data": {
      "text/html": [
       "<div>\n",
       "<style scoped>\n",
       "    .dataframe tbody tr th:only-of-type {\n",
       "        vertical-align: middle;\n",
       "    }\n",
       "\n",
       "    .dataframe tbody tr th {\n",
       "        vertical-align: top;\n",
       "    }\n",
       "\n",
       "    .dataframe thead th {\n",
       "        text-align: right;\n",
       "    }\n",
       "</style>\n",
       "<table border=\"1\" class=\"dataframe\">\n",
       "  <thead>\n",
       "    <tr style=\"text-align: right;\">\n",
       "      <th></th>\n",
       "      <th>median_window</th>\n",
       "      <th>median_zscore_threshold</th>\n",
       "    </tr>\n",
       "    <tr>\n",
       "      <th>pair</th>\n",
       "      <th></th>\n",
       "      <th></th>\n",
       "    </tr>\n",
       "  </thead>\n",
       "  <tbody>\n",
       "    <tr>\n",
       "      <th>(ISRG, NVDA)</th>\n",
       "      <td>4.0</td>\n",
       "      <td>2.55</td>\n",
       "    </tr>\n",
       "    <tr>\n",
       "      <th>(AME, MCHP)</th>\n",
       "      <td>4.0</td>\n",
       "      <td>2.25</td>\n",
       "    </tr>\n",
       "    <tr>\n",
       "      <th>(HLT, KLAC)</th>\n",
       "      <td>17.0</td>\n",
       "      <td>2.60</td>\n",
       "    </tr>\n",
       "    <tr>\n",
       "      <th>(NWS, TDG)</th>\n",
       "      <td>18.0</td>\n",
       "      <td>2.60</td>\n",
       "    </tr>\n",
       "    <tr>\n",
       "      <th>(LEN, MA)</th>\n",
       "      <td>7.0</td>\n",
       "      <td>2.45</td>\n",
       "    </tr>\n",
       "    <tr>\n",
       "      <th>(ICE, NWSA)</th>\n",
       "      <td>11.5</td>\n",
       "      <td>2.10</td>\n",
       "    </tr>\n",
       "    <tr>\n",
       "      <th>(FTV, LOW)</th>\n",
       "      <td>6.0</td>\n",
       "      <td>3.05</td>\n",
       "    </tr>\n",
       "  </tbody>\n",
       "</table>\n",
       "</div>"
      ],
      "text/plain": [
       "              median_window  median_zscore_threshold\n",
       "pair                                                \n",
       "(ISRG, NVDA)            4.0                     2.55\n",
       "(AME, MCHP)             4.0                     2.25\n",
       "(HLT, KLAC)            17.0                     2.60\n",
       "(NWS, TDG)             18.0                     2.60\n",
       "(LEN, MA)               7.0                     2.45\n",
       "(ICE, NWSA)            11.5                     2.10\n",
       "(FTV, LOW)              6.0                     3.05"
      ]
     },
     "execution_count": 22,
     "metadata": {},
     "output_type": "execute_result"
    }
   ],
   "source": [
    "df_sel"
   ]
  },
  {
   "cell_type": "markdown",
   "metadata": {},
   "source": [
    "## Close the stocks which are open but not included in new portfolio\n",
    "If the open stocks is not included in stocks to trade, then close it"
   ]
  },
  {
   "cell_type": "code",
   "execution_count": 24,
   "metadata": {},
   "outputs": [
    {
     "name": "stdout",
     "output_type": "stream",
     "text": [
      "[]\n"
     ]
    }
   ],
   "source": [
    "stocks_to_trade = [stock for pair in df_sel.index.to_list() for stock in pair]\n",
    "stocks_to_close = [stock for stock in stocks_open if stock not in stocks_to_trade]\n",
    "print(stocks_to_close)"
   ]
  },
  {
   "cell_type": "code",
   "execution_count": 25,
   "metadata": {},
   "outputs": [
    {
     "name": "stdout",
     "output_type": "stream",
     "text": [
      "Empty DataFrame\n",
      "Columns: []\n",
      "Index: []\n"
     ]
    }
   ],
   "source": [
    "print(df_current_positions)"
   ]
  },
  {
   "cell_type": "code",
   "execution_count": 26,
   "metadata": {},
   "outputs": [],
   "source": [
    "if len(df_current_positions) > 0:\n",
    "    for index, row in df_current_positions.iterrows():\n",
    "        stock = row['contract'].symbol\n",
    "        position = row['position']\n",
    "        if stock in stocks_to_close:\n",
    "            print(f\"Closing position for {stock}\")\n",
    "            contract = Stock(stock, 'SMART', 'USD')\n",
    "            ib.qualifyContracts(contract)\n",
    "            action = 'SELL' if position > 0 else 'BUY'\n",
    "            order = MarketOrder(action, abs(position))\n",
    "            trade = ib.placeOrder(contract, order)"
   ]
  },
  {
   "cell_type": "markdown",
   "metadata": {},
   "source": [
    "it's ok if there is delay to close the positions since it does not interfere of new contract!"
   ]
  },
  {
   "cell_type": "markdown",
   "metadata": {},
   "source": [
    "## Get the positions summary"
   ]
  },
  {
   "cell_type": "code",
   "execution_count": 27,
   "metadata": {},
   "outputs": [
    {
     "data": {
      "text/plain": [
       "246766.33"
      ]
     },
     "execution_count": 27,
     "metadata": {},
     "output_type": "execute_result"
    }
   ],
   "source": [
    "float(accountSummary[accountSummary[\"tag\"] == \"NetLiquidation\"][\"value\"].iloc[0])"
   ]
  },
  {
   "cell_type": "code",
   "execution_count": 39,
   "metadata": {},
   "outputs": [],
   "source": [
    "def get_positions_summary(stocks_to_trade, df_pairs_wt_paras, df_whole_intraday, df_whole, ib, margin_ratio):\n",
    "\n",
    "\n",
    "    accountSummary = pd.DataFrame(ib.accountSummary())\n",
    "    NetLiquidation = float(accountSummary[accountSummary[\"tag\"] == \"NetLiquidation\"][\"value\"].iloc[0])\n",
    "    BuyingPower = float(accountSummary[accountSummary[\"tag\"] == \"BuyingPower\"][\"value\"].iloc[0])\n",
    "    \n",
    "    \n",
    "    margin_init = NetLiquidation/len(df_pairs_wt_paras) \n",
    "    ls_current_future_positions= [PairTradingUpdatePosition(df_whole_intraday = df_whole_intraday, \n",
    "                                                    df_whole = df_whole, \n",
    "                                                    margin_init = margin_init, \n",
    "                                                    margin_ratio = margin_ratio, \n",
    "                                                    df_pairs_wt_paras = df_pairs_wt_paras, \n",
    "                                                    ib = ib,\n",
    "                                                    pair = pair).update_position_summary() for pair in df_sel.index]\n",
    "\n",
    "    df_current_future_positions = pd.DataFrame(ls_current_future_positions)\n",
    "\n",
    "    df_current_future_positions[\"stock1_order_numbers\"] = df_current_future_positions[\"stock1_future_numbers\"] - df_current_future_positions[\"stock1_current_numbers\"]\n",
    "    df_current_future_positions[\"stock2_order_numbers\"] = df_current_future_positions[\"stock2_future_numbers\"] - df_current_future_positions[\"stock2_current_numbers\"]\n",
    "\n",
    "    return df_current_future_positions"
   ]
  },
  {
   "cell_type": "code",
   "execution_count": 29,
   "metadata": {},
   "outputs": [],
   "source": [
    "while True:\n",
    "    if (len(stocks)>=1):\n",
    "        break"
   ]
  },
  {
   "cell_type": "markdown",
   "metadata": {},
   "source": [
    "## Realtime Trading"
   ]
  },
  {
   "cell_type": "code",
   "execution_count": 30,
   "metadata": {},
   "outputs": [],
   "source": [
    "# Define the New York timezone\n",
    "new_york_tz = pytz.timezone('America/New_York')\n",
    "\n",
    "# Get current time in New York, subtract 10 days, and set time to 4 PM\n",
    "dummy_trading_time = datetime.datetime.now(new_york_tz).replace(hour=16, minute=0, second=0, microsecond=0) - timedelta(days=7)\n",
    "\n",
    "df_trading_time = df_sel.copy()\n",
    "# apply the new column last_trading_time to yesterday's 4 PM based on new york time zone\n",
    "df_trading_time['last_trading_time'] = dummy_trading_time"
   ]
  },
  {
   "cell_type": "code",
   "execution_count": 32,
   "metadata": {},
   "outputs": [],
   "source": [
    "def ib_order_execute(df_current_future_positions, df_trading_time):\n",
    "    for index, row in df_current_future_positions.iterrows():\n",
    "        stock1 = row['pair'][0]\n",
    "        stock2 = row['pair'][1]\n",
    "        stock1_order_numbers = row['stock1_order_numbers']\n",
    "        stock2_order_numbers = row['stock2_order_numbers']\n",
    "        \n",
    "\n",
    "        now = datetime.datetime.now(pytz.timezone('America/New_York'))\n",
    "        start_time = now.replace(hour=9, minute=30, second=0, microsecond=0)\n",
    "        end_time = now.replace(hour=16, minute=0, second=0, microsecond=0)\n",
    "        \n",
    "        last_trading_time = df_trading_time.loc[df_trading_time.index == (stock1, stock2), 'last_trading_time'].iloc[-1]\n",
    "        if start_time <= now <= end_time:\n",
    "            # Check if the last trading time is on the same day as the current day and time difference is at least 10 minutes\n",
    "            if ((last_trading_time.date() == now.date()) and (now - last_trading_time) >= datetime.timedelta(minutes=60)) or (last_trading_time.date() != now.date()):\n",
    "                \n",
    "                \n",
    "                if (stock1_order_numbers > 5) and (stock2_order_numbers < -5):\n",
    "                    print(f\"Buying {stock1_order_numbers} of {stock1}\")\n",
    "                    print(f\"Selling {stock2_order_numbers} of {stock2}\")  \n",
    "                    contract_stock1 = Stock(stock1, 'SMART', 'USD')\n",
    "                    ib.qualifyContracts(contract_stock1)\n",
    "                    order_stock1 = MarketOrder('BUY', abs(stock1_order_numbers))\n",
    "                    trade_stock1 = ib.placeOrder(contract_stock1, order_stock1)                \n",
    "  \n",
    "                    contract_stock2 = Stock(stock2, 'SMART', 'USD')\n",
    "                    ib.qualifyContracts(contract_stock2)\n",
    "                    order_stock2 = MarketOrder('SELL', abs(stock2_order_numbers))\n",
    "                    trade_stock2 = ib.placeOrder(contract_stock2, order_stock2)\n",
    "                    df_trading_time.loc[df_trading_time.index == (stock1, stock2), 'last_trading_time'] = datetime.datetime.now(pytz.timezone('America/New_York'))\n",
    "                    \n",
    "                elif (stock1_order_numbers < -5) and (stock2_order_numbers > 5):\n",
    "                    print(f\"Selling {stock1_order_numbers} of {stock1}\")\n",
    "                    print(f\"Buying {stock2_order_numbers} of {stock2}\")  \n",
    "                    contract_stock1 = Stock(stock1, 'SMART', 'USD')\n",
    "                    ib.qualifyContracts(contract_stock1)\n",
    "                    order_stock1 = MarketOrder('SELL', abs(stock1_order_numbers))\n",
    "                    trade_stock1 = ib.placeOrder(contract_stock1, order_stock1)                \n",
    "  \n",
    "                    contract_stock2 = Stock(stock2, 'SMART', 'USD')\n",
    "                    ib.qualifyContracts(contract_stock2)\n",
    "                    order_stock2 = MarketOrder('BUY', abs(stock2_order_numbers))\n",
    "                    trade_stock2 = ib.placeOrder(contract_stock2, order_stock2)\n",
    "                    df_trading_time.loc[df_trading_time.index == (stock1, stock2), 'last_trading_time'] = datetime.datetime.now(pytz.timezone('America/New_York'))"
   ]
  },
  {
   "cell_type": "code",
   "execution_count": 34,
   "metadata": {},
   "outputs": [],
   "source": [
    "import pandas_market_calendars as mcal\n",
    "\n",
    "while True:\n",
    "    now = datetime.datetime.now(pytz.timezone('America/New_York'))\n",
    "    schedule = mcal.get_calendar('NYSE').schedule(start_date=now, end_date=now)\n",
    "    # if the schedule is empty, it is not a trading day so out from while loop\n",
    "    if len(schedule) == 0 or now.hour > 16:\n",
    "        break\n",
    "    stocks = [stock for pair in df_sel.index for stock in pair]\n",
    "    data_1d_1y = yf.download(tickers = stocks, period=\"1y\",interval=\"1d\", progress = False)['Adj Close']\n",
    "    data_5m_60d = yf.download(tickers = stocks, period=\"60d\",interval=\"5m\", progress = False)['Adj Close']\n",
    "    df_current_future_positions = get_positions_summary(stocks_to_trade = stocks_to_trade, df_pairs_wt_paras = df_sel, df_whole_intraday = data_5m_60d, df_whole = data_1d_1y, ib = ib, \n",
    "                                                        margin_ratio = 0.25)\n",
    "    ib_order_execute(df_current_future_positions = df_current_future_positions, df_trading_time = df_trading_time)\n",
    "    ib.sleep(60)"
   ]
  }
 ],
 "metadata": {
  "kernelspec": {
   "display_name": "pairs-trading",
   "language": "python",
   "name": "python3"
  },
  "language_info": {
   "codemirror_mode": {
    "name": "ipython",
    "version": 3
   },
   "file_extension": ".py",
   "mimetype": "text/x-python",
   "name": "python",
   "nbconvert_exporter": "python",
   "pygments_lexer": "ipython3",
   "version": "3.11.8"
  }
 },
 "nbformat": 4,
 "nbformat_minor": 2
}
