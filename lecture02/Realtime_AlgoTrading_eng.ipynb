{
 "cells": [
  {
   "cell_type": "code",
   "execution_count": 1,
   "metadata": {},
   "outputs": [],
   "source": [
    "from PairTrading_eng import *\n",
    "import pytz\n",
    "from ib_insync import *\n",
    "import datetime\n",
    "import pandas_market_calendars as mcal"
   ]
  },
  {
   "cell_type": "markdown",
   "metadata": {},
   "source": [
    "## Interactive Brokers Setting\n",
    "### Account creataion and tws desktop offline version  installation\n",
    "1. Account creation: https://www.interactivebrokers.com/en/home.php\n",
    "2. tws (Interactive Brokers Trading Workstation) desktop Installation: https://www.interactivebrokers.com/en/trading/ibkr-desktop.php\n"
   ]
  },
  {
   "cell_type": "code",
   "execution_count": 2,
   "metadata": {},
   "outputs": [
    {
     "name": "stderr",
     "output_type": "stream",
     "text": [
      "Error 1100, reqId -1: Connectivity between IB and Trader Workstation has been lost.\n",
      "Error 1100, reqId -1: Connectivity between IB and Trader Workstation has been lost.\n",
      "Error 1102, reqId -1: Connectivity between IB and Trader Workstation has been restored - data maintained. All data farms are connected: usfarm.nj; cashfarm; usfarm; ushmds; secdefil.\n",
      "Peer closed connection.\n"
     ]
    }
   ],
   "source": [
    "try:\n",
    "    if ib.isConnected():\n",
    "        print('Connection is already established')\n",
    "except NameError:\n",
    "    util.startLoop()  # needed for Jupyter\n",
    "    ib = IB()\n",
    "    ib.connect()\n"
   ]
  },
  {
   "cell_type": "code",
   "execution_count": 3,
   "metadata": {},
   "outputs": [
    {
     "name": "stdout",
     "output_type": "stream",
     "text": [
      "984707.16\n"
     ]
    }
   ],
   "source": [
    "accountSummary = pd.DataFrame(ib.accountSummary())\n",
    "AvailableFunds = float(accountSummary[accountSummary[\"tag\"] == \"AvailableFunds\"][\"value\"].iloc[0])\n",
    "BuyingPower = float(accountSummary[accountSummary[\"tag\"] == \"BuyingPower\"][\"value\"].iloc[0])\n",
    "\n",
    "print(BuyingPower)"
   ]
  },
  {
   "cell_type": "markdown",
   "metadata": {},
   "source": [
    "## Importing Data from a Kaggle Notebook\n",
    "\n",
    "### Preparation Steps\n",
    "\n",
    "Before downloading data from a Kaggle notebook, ensure that the Kaggle API is installed and configured:\n",
    "\n",
    "1. **Install the Kaggle API**:\n",
    "   ```bash\n",
    "   pip install kaggle\n",
    "2. Download the kaggle.json file from the Kaggle account.\n",
    "3. Place the kaggle.json file in the appropriate directory:\n",
    "   - Mac/Linux: /username/.kaggle\n",
    "   - Windows: C:\\Users\\Your-Username\\\\.kaggle\n",
    "4. Should download files from kaggle output to local folder\n",
    "   ```bash\n",
    "   kaggle kernels output dtmanager1979/stock-trading-eda-scheduled -p /path/to/dest\n",
    "5. The notebook can be found [here](https://www.kaggle.com/code/dtmanager1979/stock-trading-eda-scheduled/output). \n",
    "For instructional purposes, the algorithm has been slightly simplified, but custom algorithms can be created if necessary. \n"
   ]
  },
  {
   "cell_type": "code",
   "execution_count": 4,
   "metadata": {},
   "outputs": [],
   "source": [
    "# !kaggle kernels output dtmanager1979/stock-trading-eda-scheduled -p /Users/songyouk/PairsTrading\n",
    "# !kaggle kernels output dtmanager1979/stock-trading-eda-scheduled -p C:\\Users\\dyouk\\myVision\\PairsTrading"
   ]
  },
  {
   "cell_type": "code",
   "execution_count": 4,
   "metadata": {},
   "outputs": [],
   "source": [
    "if os.path.exists('../data/last_pairs_update.txt'):\n",
    "    with open(\"../data/last_pairs_update.txt\", 'r') as f:\n",
    "        last_pairs_update = datetime.datetime.strptime(f.read(), '%Y-%m-%d %H:%M:%S.%f')\n",
    "        \n",
    "else:\n",
    "    last_pairs_update = datetime.datetime.now() - datetime.timedelta(days=7) # set dummy last_pairs_update\n",
    "\n",
    "time_diff = datetime.datetime.now() - last_pairs_update\n",
    "\n",
    "# check if the last update is eariler than 5 days ago and also the day is Monday or Tuesday or Wednesday\n",
    "if time_diff >= datetime.timedelta(days=5) and (datetime.datetime.now().weekday() in [0, 1, 2]): \n",
    "    # update the path based on your folder structure and your operating system. Note that in Windows, you need to specify the path with double backslashes.\n",
    "    # if .. is not working, try with full path\n",
    "    os.system('kaggle kernels output dtmanager1979/stock-trading-eda-scheduled -p ../')\n",
    "    # os.system('kaggle kernels output dtmanager1979/stock-trading-eda-scheduled -p ..\\\\')\n",
    "    last_pairs_update = datetime.datetime.now()\n",
    "    with open(\"../data/last_pairs_update.txt\", 'w') as f:\n",
    "        f.write(str(last_pairs_update))"
   ]
  },
  {
   "cell_type": "markdown",
   "metadata": {},
   "source": [
    "should pip install nbformat"
   ]
  },
  {
   "cell_type": "markdown",
   "metadata": {},
   "source": [
    "### get the list of open stocks"
   ]
  },
  {
   "cell_type": "code",
   "execution_count": 6,
   "metadata": {},
   "outputs": [],
   "source": [
    "df_sel= pd.read_pickle(\"../data/df_sel.pkl\")[[\"median_window\", \"median_zscore_threshold\"]]\n",
    "# df_sel = pd.DataFrame(data)[[\"median_window\", \"median_zscore_threshold\"]]\n",
    "stocks = [stock for pair in df_sel.index for stock in pair]"
   ]
  },
  {
   "cell_type": "code",
   "execution_count": 7,
   "metadata": {},
   "outputs": [],
   "source": [
    "if len(df_sel) > 7:\n",
    "    df_sel = df_sel.iloc[0:7,:]"
   ]
  },
  {
   "cell_type": "code",
   "execution_count": 8,
   "metadata": {},
   "outputs": [
    {
     "name": "stdout",
     "output_type": "stream",
     "text": [
      "No open positions\n"
     ]
    }
   ],
   "source": [
    "positions = ib.positions()\n",
    "df_current_positions = pd.DataFrame(positions)\n",
    "stocks_open = []\n",
    "if len(df_current_positions) == 0:\n",
    "    print(\"No open positions\")\n",
    "else:\n",
    "    df_current_positions['symbol'] = df_current_positions['contract'].apply(lambda x: x.symbol)\n",
    "    stocks_open = df_current_positions['symbol'].to_list()\n",
    "    print(stocks_open)"
   ]
  },
  {
   "cell_type": "markdown",
   "metadata": {},
   "source": [
    "## Close the stocks which are open but not included in new portfolio\n",
    "If the open stocks is not included in stocks to trade, then close it"
   ]
  },
  {
   "cell_type": "code",
   "execution_count": 9,
   "metadata": {},
   "outputs": [
    {
     "name": "stdout",
     "output_type": "stream",
     "text": [
      "[]\n"
     ]
    }
   ],
   "source": [
    "stocks_to_trade = [stock for pair in df_sel.index.to_list() for stock in pair]\n",
    "stocks_to_close = [stock for stock in stocks_open if stock not in stocks_to_trade]\n",
    "print(stocks_to_close)"
   ]
  },
  {
   "cell_type": "code",
   "execution_count": 10,
   "metadata": {},
   "outputs": [
    {
     "name": "stdout",
     "output_type": "stream",
     "text": [
      "Empty DataFrame\n",
      "Columns: []\n",
      "Index: []\n"
     ]
    }
   ],
   "source": [
    "print(df_current_positions)"
   ]
  },
  {
   "cell_type": "code",
   "execution_count": 11,
   "metadata": {},
   "outputs": [],
   "source": [
    "if len(df_current_positions) > 0:\n",
    "    for index, row in df_current_positions.iterrows():\n",
    "        stock = row['contract'].symbol\n",
    "        position = row['position']\n",
    "        if stock in stocks_to_close:\n",
    "            print(f\"Closing position for {stock}\")\n",
    "            contract = Stock(stock, 'SMART', 'USD')\n",
    "            ib.qualifyContracts(contract)\n",
    "            action = 'SELL' if position > 0 else 'BUY'\n",
    "            order = MarketOrder(action, abs(position))\n",
    "            trade = ib.placeOrder(contract, order)"
   ]
  },
  {
   "cell_type": "markdown",
   "metadata": {},
   "source": [
    "it's ok if there is delay to close the positions since it does not interfere of new contract!"
   ]
  },
  {
   "cell_type": "markdown",
   "metadata": {},
   "source": [
    "## Get the positions summary"
   ]
  },
  {
   "cell_type": "code",
   "execution_count": 12,
   "metadata": {},
   "outputs": [
    {
     "data": {
      "text/plain": [
       "246766.33"
      ]
     },
     "execution_count": 12,
     "metadata": {},
     "output_type": "execute_result"
    }
   ],
   "source": [
    "float(accountSummary[accountSummary[\"tag\"] == \"NetLiquidation\"][\"value\"].iloc[0])"
   ]
  },
  {
   "cell_type": "code",
   "execution_count": 13,
   "metadata": {},
   "outputs": [],
   "source": [
    "def get_positions_summary(stocks_to_trade, df_pairs_wt_paras, df_whole_intraday, df_whole, ib, margin_ratio):\n",
    "\n",
    "\n",
    "    accountSummary = pd.DataFrame(ib.accountSummary())\n",
    "    NetLiquidation = float(accountSummary[accountSummary[\"tag\"] == \"NetLiquidation\"][\"value\"].iloc[0])\n",
    "    BuyingPower = float(accountSummary[accountSummary[\"tag\"] == \"BuyingPower\"][\"value\"].iloc[0])\n",
    "    \n",
    "    \n",
    "    margin_init = NetLiquidation/len(df_pairs_wt_paras) \n",
    "    ls_current_future_positions= [PairTradingUpdatePosition(df_whole_intraday = df_whole_intraday, \n",
    "                                                    df_whole = df_whole, \n",
    "                                                    margin_init = margin_init, \n",
    "                                                    margin_ratio = margin_ratio, \n",
    "                                                    df_pairs_wt_paras = df_pairs_wt_paras, \n",
    "                                                    ib = ib,\n",
    "                                                    pair = pair).update_position_summary() for pair in df_sel.index]\n",
    "\n",
    "    df_current_future_positions = pd.DataFrame(ls_current_future_positions)\n",
    "\n",
    "    df_current_future_positions[\"stock1_order_numbers\"] = df_current_future_positions[\"stock1_future_numbers\"] - df_current_future_positions[\"stock1_current_numbers\"]\n",
    "    df_current_future_positions[\"stock2_order_numbers\"] = df_current_future_positions[\"stock2_future_numbers\"] - df_current_future_positions[\"stock2_current_numbers\"]\n",
    "\n",
    "    return df_current_future_positions"
   ]
  },
  {
   "cell_type": "code",
   "execution_count": 14,
   "metadata": {},
   "outputs": [],
   "source": [
    "while True:\n",
    "    if (len(stocks)>=1):\n",
    "        break"
   ]
  },
  {
   "cell_type": "markdown",
   "metadata": {},
   "source": [
    "## Realtime Trading"
   ]
  },
  {
   "cell_type": "code",
   "execution_count": 15,
   "metadata": {},
   "outputs": [],
   "source": [
    "# Define the New York timezone\n",
    "new_york_tz = pytz.timezone('America/New_York')\n",
    "\n",
    "# Get current time in New York, subtract 10 days, and set time to 4 PM\n",
    "dummy_trading_time = datetime.datetime.now(new_york_tz).replace(hour=16, minute=0, second=0, microsecond=0) - timedelta(days=7)\n",
    "\n",
    "df_trading_time = df_sel.copy()\n",
    "# apply the new column last_trading_time to yesterday's 4 PM based on new york time zone\n",
    "df_trading_time['last_trading_time'] = dummy_trading_time"
   ]
  },
  {
   "cell_type": "code",
   "execution_count": 16,
   "metadata": {},
   "outputs": [],
   "source": [
    "def ib_order_execute(df_current_future_positions, df_trading_time):\n",
    "    for index, row in df_current_future_positions.iterrows():\n",
    "        stock1 = row['pair'][0]\n",
    "        stock2 = row['pair'][1]\n",
    "        stock1_order_numbers = row['stock1_order_numbers']\n",
    "        stock2_order_numbers = row['stock2_order_numbers']\n",
    "        \n",
    "\n",
    "        now = datetime.datetime.now(pytz.timezone('America/New_York'))\n",
    "        start_time = now.replace(hour=9, minute=30, second=0, microsecond=0)\n",
    "        end_time = now.replace(hour=16, minute=0, second=0, microsecond=0)\n",
    "        \n",
    "        last_trading_time = df_trading_time.loc[df_trading_time.index == (stock1, stock2), 'last_trading_time'].iloc[-1]\n",
    "        if start_time <= now <= end_time:\n",
    "            # Check if the last trading time is on the same day as the current day and time difference is at least 10 minutes\n",
    "            if ((last_trading_time.date() == now.date()) and (now - last_trading_time) >= datetime.timedelta(minutes=60)) or (last_trading_time.date() != now.date()):\n",
    "                \n",
    "                \n",
    "                if (stock1_order_numbers > 5) and (stock2_order_numbers < -5):\n",
    "                    print(f\"Buying {stock1_order_numbers} of {stock1}\")\n",
    "                    print(f\"Selling {stock2_order_numbers} of {stock2}\")  \n",
    "                    contract_stock1 = Stock(stock1, 'SMART', 'USD')\n",
    "                    ib.qualifyContracts(contract_stock1)\n",
    "                    order_stock1 = MarketOrder('BUY', abs(stock1_order_numbers))\n",
    "                    trade_stock1 = ib.placeOrder(contract_stock1, order_stock1)                \n",
    "  \n",
    "                    contract_stock2 = Stock(stock2, 'SMART', 'USD')\n",
    "                    ib.qualifyContracts(contract_stock2)\n",
    "                    order_stock2 = MarketOrder('SELL', abs(stock2_order_numbers))\n",
    "                    trade_stock2 = ib.placeOrder(contract_stock2, order_stock2)\n",
    "                    df_trading_time.loc[df_trading_time.index == (stock1, stock2), 'last_trading_time'] = datetime.datetime.now(pytz.timezone('America/New_York'))\n",
    "                    \n",
    "                elif (stock1_order_numbers < -5) and (stock2_order_numbers > 5):\n",
    "                    print(f\"Selling {stock1_order_numbers} of {stock1}\")\n",
    "                    print(f\"Buying {stock2_order_numbers} of {stock2}\")  \n",
    "                    contract_stock1 = Stock(stock1, 'SMART', 'USD')\n",
    "                    ib.qualifyContracts(contract_stock1)\n",
    "                    order_stock1 = MarketOrder('SELL', abs(stock1_order_numbers))\n",
    "                    trade_stock1 = ib.placeOrder(contract_stock1, order_stock1)                \n",
    "  \n",
    "                    contract_stock2 = Stock(stock2, 'SMART', 'USD')\n",
    "                    ib.qualifyContracts(contract_stock2)\n",
    "                    order_stock2 = MarketOrder('BUY', abs(stock2_order_numbers))\n",
    "                    trade_stock2 = ib.placeOrder(contract_stock2, order_stock2)\n",
    "                    df_trading_time.loc[df_trading_time.index == (stock1, stock2), 'last_trading_time'] = datetime.datetime.now(pytz.timezone('America/New_York'))"
   ]
  },
  {
   "cell_type": "code",
   "execution_count": 17,
   "metadata": {},
   "outputs": [
    {
     "name": "stdout",
     "output_type": "stream",
     "text": [
      "Buying 605 of ICE\n",
      "Selling -3085 of NWSA\n"
     ]
    },
    {
     "name": "stderr",
     "output_type": "stream",
     "text": [
      "\n",
      "12 Failed downloads:\n",
      "['BIO', 'NWSA', 'CEG', 'ICE', 'AMAT', 'BSX', 'LIN', 'PARA']: ReadTimeout(ReadTimeoutError(\"HTTPSConnectionPool(host='query2.finance.yahoo.com', port=443): Read timed out. (read timeout=10)\"))\n",
      "['LEN']: ConnectionError(MaxRetryError('HTTPSConnectionPool(host=\\'query2.finance.yahoo.com\\', port=443): Max retries exceeded with url: /v8/finance/chart/%ticker%?range=1y&interval=1d&includePrePost=False&events=div%2Csplits%2CcapitalGains&crumb=x8Yvp8%2F9pEe (Caused by NameResolutionError(\"<urllib3.connection.HTTPSConnection object at 0x165708590>: Failed to resolve \\'query2.finance.yahoo.com\\' ([Errno 8] nodename nor servname provided, or not known)\"))'))\n",
      "['IRM']: ConnectionError(MaxRetryError('HTTPSConnectionPool(host=\\'query2.finance.yahoo.com\\', port=443): Max retries exceeded with url: /v8/finance/chart/%ticker%?range=1y&interval=1d&includePrePost=False&events=div%2Csplits%2CcapitalGains&crumb=x8Yvp8%2F9pEe (Caused by NameResolutionError(\"<urllib3.connection.HTTPSConnection object at 0x1650ea390>: Failed to resolve \\'query2.finance.yahoo.com\\' ([Errno 8] nodename nor servname provided, or not known)\"))'))\n",
      "['EQIX']: ConnectionError(MaxRetryError('HTTPSConnectionPool(host=\\'query2.finance.yahoo.com\\', port=443): Max retries exceeded with url: /v8/finance/chart/%ticker%?range=1y&interval=1d&includePrePost=False&events=div%2Csplits%2CcapitalGains&crumb=x8Yvp8%2F9pEe (Caused by NameResolutionError(\"<urllib3.connection.HTTPSConnection object at 0x1650e8290>: Failed to resolve \\'query2.finance.yahoo.com\\' ([Errno 8] nodename nor servname provided, or not known)\"))'))\n",
      "['KLAC']: ConnectionError(MaxRetryError('HTTPSConnectionPool(host=\\'query2.finance.yahoo.com\\', port=443): Max retries exceeded with url: /v8/finance/chart/%ticker%?range=1y&interval=1d&includePrePost=False&events=div%2Csplits%2CcapitalGains&crumb=x8Yvp8%2F9pEe (Caused by NameResolutionError(\"<urllib3.connection.HTTPSConnection object at 0x1650e3550>: Failed to resolve \\'query2.finance.yahoo.com\\' ([Errno 8] nodename nor servname provided, or not known)\"))'))\n",
      "\n",
      "12 Failed downloads:\n",
      "['BIO']: ConnectionError(MaxRetryError('HTTPSConnectionPool(host=\\'query2.finance.yahoo.com\\', port=443): Max retries exceeded with url: /v8/finance/chart/%ticker%?range=60d&interval=5m&includePrePost=False&events=div%2Csplits%2CcapitalGains&crumb=x8Yvp8%2F9pEe (Caused by NameResolutionError(\"<urllib3.connection.HTTPSConnection object at 0x1657301d0>: Failed to resolve \\'query2.finance.yahoo.com\\' ([Errno 8] nodename nor servname provided, or not known)\"))'))\n",
      "['NWSA']: ConnectionError(MaxRetryError('HTTPSConnectionPool(host=\\'query2.finance.yahoo.com\\', port=443): Max retries exceeded with url: /v8/finance/chart/%ticker%?range=60d&interval=5m&includePrePost=False&events=div%2Csplits%2CcapitalGains&crumb=x8Yvp8%2F9pEe (Caused by NameResolutionError(\"<urllib3.connection.HTTPSConnection object at 0x1657e1890>: Failed to resolve \\'query2.finance.yahoo.com\\' ([Errno 8] nodename nor servname provided, or not known)\"))'))\n",
      "['CEG']: ConnectionError(MaxRetryError('HTTPSConnectionPool(host=\\'query2.finance.yahoo.com\\', port=443): Max retries exceeded with url: /v8/finance/chart/%ticker%?range=60d&interval=5m&includePrePost=False&events=div%2Csplits%2CcapitalGains&crumb=x8Yvp8%2F9pEe (Caused by NameResolutionError(\"<urllib3.connection.HTTPSConnection object at 0x1650eb350>: Failed to resolve \\'query2.finance.yahoo.com\\' ([Errno 8] nodename nor servname provided, or not known)\"))'))\n",
      "['LIN']: ConnectionError(MaxRetryError('HTTPSConnectionPool(host=\\'query2.finance.yahoo.com\\', port=443): Max retries exceeded with url: /v8/finance/chart/%ticker%?range=60d&interval=5m&includePrePost=False&events=div%2Csplits%2CcapitalGains&crumb=x8Yvp8%2F9pEe (Caused by NameResolutionError(\"<urllib3.connection.HTTPSConnection object at 0x1650e3d90>: Failed to resolve \\'query2.finance.yahoo.com\\' ([Errno 8] nodename nor servname provided, or not known)\"))'))\n",
      "['AMAT']: ConnectionError(MaxRetryError('HTTPSConnectionPool(host=\\'query2.finance.yahoo.com\\', port=443): Max retries exceeded with url: /v8/finance/chart/%ticker%?range=60d&interval=5m&includePrePost=False&events=div%2Csplits%2CcapitalGains&crumb=x8Yvp8%2F9pEe (Caused by NameResolutionError(\"<urllib3.connection.HTTPSConnection object at 0x1657e2950>: Failed to resolve \\'query2.finance.yahoo.com\\' ([Errno 8] nodename nor servname provided, or not known)\"))'))\n",
      "['BSX']: ConnectionError(MaxRetryError('HTTPSConnectionPool(host=\\'query2.finance.yahoo.com\\', port=443): Max retries exceeded with url: /v8/finance/chart/%ticker%?range=60d&interval=5m&includePrePost=False&events=div%2Csplits%2CcapitalGains&crumb=x8Yvp8%2F9pEe (Caused by NameResolutionError(\"<urllib3.connection.HTTPSConnection object at 0x1650e2590>: Failed to resolve \\'query2.finance.yahoo.com\\' ([Errno 8] nodename nor servname provided, or not known)\"))'))\n",
      "['ICE']: ConnectionError(MaxRetryError('HTTPSConnectionPool(host=\\'query2.finance.yahoo.com\\', port=443): Max retries exceeded with url: /v8/finance/chart/%ticker%?range=60d&interval=5m&includePrePost=False&events=div%2Csplits%2CcapitalGains&crumb=x8Yvp8%2F9pEe (Caused by NameResolutionError(\"<urllib3.connection.HTTPSConnection object at 0x164df2a10>: Failed to resolve \\'query2.finance.yahoo.com\\' ([Errno 8] nodename nor servname provided, or not known)\"))'))\n",
      "['PARA']: ConnectionError(MaxRetryError('HTTPSConnectionPool(host=\\'query2.finance.yahoo.com\\', port=443): Max retries exceeded with url: /v8/finance/chart/%ticker%?range=60d&interval=5m&includePrePost=False&events=div%2Csplits%2CcapitalGains&crumb=x8Yvp8%2F9pEe (Caused by NameResolutionError(\"<urllib3.connection.HTTPSConnection object at 0x1650d6fd0>: Failed to resolve \\'query2.finance.yahoo.com\\' ([Errno 8] nodename nor servname provided, or not known)\"))'))\n",
      "['IRM']: ConnectionError(MaxRetryError('HTTPSConnectionPool(host=\\'query2.finance.yahoo.com\\', port=443): Max retries exceeded with url: /v8/finance/chart/%ticker%?range=60d&interval=5m&includePrePost=False&events=div%2Csplits%2CcapitalGains&crumb=x8Yvp8%2F9pEe (Caused by NameResolutionError(\"<urllib3.connection.HTTPSConnection object at 0x165748850>: Failed to resolve \\'query2.finance.yahoo.com\\' ([Errno 8] nodename nor servname provided, or not known)\"))'))\n",
      "['EQIX']: ConnectionError(MaxRetryError('HTTPSConnectionPool(host=\\'query2.finance.yahoo.com\\', port=443): Max retries exceeded with url: /v8/finance/chart/%ticker%?range=60d&interval=5m&includePrePost=False&events=div%2Csplits%2CcapitalGains&crumb=x8Yvp8%2F9pEe (Caused by NameResolutionError(\"<urllib3.connection.HTTPSConnection object at 0x1657e0e10>: Failed to resolve \\'query2.finance.yahoo.com\\' ([Errno 8] nodename nor servname provided, or not known)\"))'))\n",
      "['KLAC']: ConnectionError(MaxRetryError('HTTPSConnectionPool(host=\\'query2.finance.yahoo.com\\', port=443): Max retries exceeded with url: /v8/finance/chart/%ticker%?range=60d&interval=5m&includePrePost=False&events=div%2Csplits%2CcapitalGains&crumb=x8Yvp8%2F9pEe (Caused by NameResolutionError(\"<urllib3.connection.HTTPSConnection object at 0x1650e0490>: Failed to resolve \\'query2.finance.yahoo.com\\' ([Errno 8] nodename nor servname provided, or not known)\"))'))\n",
      "['LEN']: ConnectionError(MaxRetryError('HTTPSConnectionPool(host=\\'query2.finance.yahoo.com\\', port=443): Max retries exceeded with url: /v8/finance/chart/%ticker%?range=60d&interval=5m&includePrePost=False&events=div%2Csplits%2CcapitalGains&crumb=x8Yvp8%2F9pEe (Caused by NameResolutionError(\"<urllib3.connection.HTTPSConnection object at 0x164e0af10>: Failed to resolve \\'query2.finance.yahoo.com\\' ([Errno 8] nodename nor servname provided, or not known)\"))'))\n"
     ]
    },
    {
     "ename": "IndexError",
     "evalue": "index -1 is out of bounds for axis 0 with size 0",
     "output_type": "error",
     "traceback": [
      "\u001b[0;31m---------------------------------------------------------------------------\u001b[0m",
      "\u001b[0;31mIndexError\u001b[0m                                Traceback (most recent call last)",
      "Cell \u001b[0;32mIn[17], line 12\u001b[0m\n\u001b[1;32m     10\u001b[0m data_1d_1y \u001b[38;5;241m=\u001b[39m yf\u001b[38;5;241m.\u001b[39mdownload(tickers \u001b[38;5;241m=\u001b[39m stocks, period\u001b[38;5;241m=\u001b[39m\u001b[38;5;124m\"\u001b[39m\u001b[38;5;124m1y\u001b[39m\u001b[38;5;124m\"\u001b[39m,interval\u001b[38;5;241m=\u001b[39m\u001b[38;5;124m\"\u001b[39m\u001b[38;5;124m1d\u001b[39m\u001b[38;5;124m\"\u001b[39m, progress \u001b[38;5;241m=\u001b[39m \u001b[38;5;28;01mFalse\u001b[39;00m)[\u001b[38;5;124m'\u001b[39m\u001b[38;5;124mAdj Close\u001b[39m\u001b[38;5;124m'\u001b[39m]\n\u001b[1;32m     11\u001b[0m data_5m_60d \u001b[38;5;241m=\u001b[39m yf\u001b[38;5;241m.\u001b[39mdownload(tickers \u001b[38;5;241m=\u001b[39m stocks, period\u001b[38;5;241m=\u001b[39m\u001b[38;5;124m\"\u001b[39m\u001b[38;5;124m60d\u001b[39m\u001b[38;5;124m\"\u001b[39m,interval\u001b[38;5;241m=\u001b[39m\u001b[38;5;124m\"\u001b[39m\u001b[38;5;124m5m\u001b[39m\u001b[38;5;124m\"\u001b[39m, progress \u001b[38;5;241m=\u001b[39m \u001b[38;5;28;01mFalse\u001b[39;00m)[\u001b[38;5;124m'\u001b[39m\u001b[38;5;124mAdj Close\u001b[39m\u001b[38;5;124m'\u001b[39m]\n\u001b[0;32m---> 12\u001b[0m df_current_future_positions \u001b[38;5;241m=\u001b[39m \u001b[43mget_positions_summary\u001b[49m\u001b[43m(\u001b[49m\u001b[43mstocks_to_trade\u001b[49m\u001b[43m \u001b[49m\u001b[38;5;241;43m=\u001b[39;49m\u001b[43m \u001b[49m\u001b[43mstocks_to_trade\u001b[49m\u001b[43m,\u001b[49m\u001b[43m \u001b[49m\u001b[43mdf_pairs_wt_paras\u001b[49m\u001b[43m \u001b[49m\u001b[38;5;241;43m=\u001b[39;49m\u001b[43m \u001b[49m\u001b[43mdf_sel\u001b[49m\u001b[43m,\u001b[49m\u001b[43m \u001b[49m\u001b[43mdf_whole_intraday\u001b[49m\u001b[43m \u001b[49m\u001b[38;5;241;43m=\u001b[39;49m\u001b[43m \u001b[49m\u001b[43mdata_5m_60d\u001b[49m\u001b[43m,\u001b[49m\u001b[43m \u001b[49m\u001b[43mdf_whole\u001b[49m\u001b[43m \u001b[49m\u001b[38;5;241;43m=\u001b[39;49m\u001b[43m \u001b[49m\u001b[43mdata_1d_1y\u001b[49m\u001b[43m,\u001b[49m\u001b[43m \u001b[49m\u001b[43mib\u001b[49m\u001b[43m \u001b[49m\u001b[38;5;241;43m=\u001b[39;49m\u001b[43m \u001b[49m\u001b[43mib\u001b[49m\u001b[43m,\u001b[49m\u001b[43m \u001b[49m\n\u001b[1;32m     13\u001b[0m \u001b[43m                                                    \u001b[49m\u001b[43mmargin_ratio\u001b[49m\u001b[43m \u001b[49m\u001b[38;5;241;43m=\u001b[39;49m\u001b[43m \u001b[49m\u001b[38;5;241;43m0.25\u001b[39;49m\u001b[43m)\u001b[49m\n\u001b[1;32m     14\u001b[0m ib_order_execute(df_current_future_positions \u001b[38;5;241m=\u001b[39m df_current_future_positions, df_trading_time \u001b[38;5;241m=\u001b[39m df_trading_time)\n\u001b[1;32m     15\u001b[0m ib\u001b[38;5;241m.\u001b[39msleep(\u001b[38;5;241m60\u001b[39m)\n",
      "Cell \u001b[0;32mIn[13], line 10\u001b[0m, in \u001b[0;36mget_positions_summary\u001b[0;34m(stocks_to_trade, df_pairs_wt_paras, df_whole_intraday, df_whole, ib, margin_ratio)\u001b[0m\n\u001b[1;32m      6\u001b[0m BuyingPower \u001b[38;5;241m=\u001b[39m \u001b[38;5;28mfloat\u001b[39m(accountSummary[accountSummary[\u001b[38;5;124m\"\u001b[39m\u001b[38;5;124mtag\u001b[39m\u001b[38;5;124m\"\u001b[39m] \u001b[38;5;241m==\u001b[39m \u001b[38;5;124m\"\u001b[39m\u001b[38;5;124mBuyingPower\u001b[39m\u001b[38;5;124m\"\u001b[39m][\u001b[38;5;124m\"\u001b[39m\u001b[38;5;124mvalue\u001b[39m\u001b[38;5;124m\"\u001b[39m]\u001b[38;5;241m.\u001b[39miloc[\u001b[38;5;241m0\u001b[39m])\n\u001b[1;32m      9\u001b[0m margin_init \u001b[38;5;241m=\u001b[39m NetLiquidation\u001b[38;5;241m/\u001b[39m\u001b[38;5;28mlen\u001b[39m(df_pairs_wt_paras) \n\u001b[0;32m---> 10\u001b[0m ls_current_future_positions\u001b[38;5;241m=\u001b[39m \u001b[43m[\u001b[49m\u001b[43mPairTradingUpdatePosition\u001b[49m\u001b[43m(\u001b[49m\u001b[43mdf_whole_intraday\u001b[49m\u001b[43m \u001b[49m\u001b[38;5;241;43m=\u001b[39;49m\u001b[43m \u001b[49m\u001b[43mdf_whole_intraday\u001b[49m\u001b[43m,\u001b[49m\u001b[43m \u001b[49m\n\u001b[1;32m     11\u001b[0m \u001b[43m                                                \u001b[49m\u001b[43mdf_whole\u001b[49m\u001b[43m \u001b[49m\u001b[38;5;241;43m=\u001b[39;49m\u001b[43m \u001b[49m\u001b[43mdf_whole\u001b[49m\u001b[43m,\u001b[49m\u001b[43m \u001b[49m\n\u001b[1;32m     12\u001b[0m \u001b[43m                                                \u001b[49m\u001b[43mmargin_init\u001b[49m\u001b[43m \u001b[49m\u001b[38;5;241;43m=\u001b[39;49m\u001b[43m \u001b[49m\u001b[43mmargin_init\u001b[49m\u001b[43m,\u001b[49m\u001b[43m \u001b[49m\n\u001b[1;32m     13\u001b[0m \u001b[43m                                                \u001b[49m\u001b[43mmargin_ratio\u001b[49m\u001b[43m \u001b[49m\u001b[38;5;241;43m=\u001b[39;49m\u001b[43m \u001b[49m\u001b[43mmargin_ratio\u001b[49m\u001b[43m,\u001b[49m\u001b[43m \u001b[49m\n\u001b[1;32m     14\u001b[0m \u001b[43m                                                \u001b[49m\u001b[43mdf_pairs_wt_paras\u001b[49m\u001b[43m \u001b[49m\u001b[38;5;241;43m=\u001b[39;49m\u001b[43m \u001b[49m\u001b[43mdf_pairs_wt_paras\u001b[49m\u001b[43m,\u001b[49m\u001b[43m \u001b[49m\n\u001b[1;32m     15\u001b[0m \u001b[43m                                                \u001b[49m\u001b[43mib\u001b[49m\u001b[43m \u001b[49m\u001b[38;5;241;43m=\u001b[39;49m\u001b[43m \u001b[49m\u001b[43mib\u001b[49m\u001b[43m,\u001b[49m\n\u001b[1;32m     16\u001b[0m \u001b[43m                                                \u001b[49m\u001b[43mpair\u001b[49m\u001b[43m \u001b[49m\u001b[38;5;241;43m=\u001b[39;49m\u001b[43m \u001b[49m\u001b[43mpair\u001b[49m\u001b[43m)\u001b[49m\u001b[38;5;241;43m.\u001b[39;49m\u001b[43mupdate_position_summary\u001b[49m\u001b[43m(\u001b[49m\u001b[43m)\u001b[49m\u001b[43m \u001b[49m\u001b[38;5;28;43;01mfor\u001b[39;49;00m\u001b[43m \u001b[49m\u001b[43mpair\u001b[49m\u001b[43m \u001b[49m\u001b[38;5;129;43;01min\u001b[39;49;00m\u001b[43m \u001b[49m\u001b[43mdf_sel\u001b[49m\u001b[38;5;241;43m.\u001b[39;49m\u001b[43mindex\u001b[49m\u001b[43m]\u001b[49m\n\u001b[1;32m     18\u001b[0m df_current_future_positions \u001b[38;5;241m=\u001b[39m pd\u001b[38;5;241m.\u001b[39mDataFrame(ls_current_future_positions)\n\u001b[1;32m     20\u001b[0m df_current_future_positions[\u001b[38;5;124m\"\u001b[39m\u001b[38;5;124mstock1_order_numbers\u001b[39m\u001b[38;5;124m\"\u001b[39m] \u001b[38;5;241m=\u001b[39m df_current_future_positions[\u001b[38;5;124m\"\u001b[39m\u001b[38;5;124mstock1_future_numbers\u001b[39m\u001b[38;5;124m\"\u001b[39m] \u001b[38;5;241m-\u001b[39m df_current_future_positions[\u001b[38;5;124m\"\u001b[39m\u001b[38;5;124mstock1_current_numbers\u001b[39m\u001b[38;5;124m\"\u001b[39m]\n",
      "Cell \u001b[0;32mIn[13], line 10\u001b[0m, in \u001b[0;36m<listcomp>\u001b[0;34m(.0)\u001b[0m\n\u001b[1;32m      6\u001b[0m BuyingPower \u001b[38;5;241m=\u001b[39m \u001b[38;5;28mfloat\u001b[39m(accountSummary[accountSummary[\u001b[38;5;124m\"\u001b[39m\u001b[38;5;124mtag\u001b[39m\u001b[38;5;124m\"\u001b[39m] \u001b[38;5;241m==\u001b[39m \u001b[38;5;124m\"\u001b[39m\u001b[38;5;124mBuyingPower\u001b[39m\u001b[38;5;124m\"\u001b[39m][\u001b[38;5;124m\"\u001b[39m\u001b[38;5;124mvalue\u001b[39m\u001b[38;5;124m\"\u001b[39m]\u001b[38;5;241m.\u001b[39miloc[\u001b[38;5;241m0\u001b[39m])\n\u001b[1;32m      9\u001b[0m margin_init \u001b[38;5;241m=\u001b[39m NetLiquidation\u001b[38;5;241m/\u001b[39m\u001b[38;5;28mlen\u001b[39m(df_pairs_wt_paras) \n\u001b[0;32m---> 10\u001b[0m ls_current_future_positions\u001b[38;5;241m=\u001b[39m [\u001b[43mPairTradingUpdatePosition\u001b[49m\u001b[43m(\u001b[49m\u001b[43mdf_whole_intraday\u001b[49m\u001b[43m \u001b[49m\u001b[38;5;241;43m=\u001b[39;49m\u001b[43m \u001b[49m\u001b[43mdf_whole_intraday\u001b[49m\u001b[43m,\u001b[49m\u001b[43m \u001b[49m\n\u001b[1;32m     11\u001b[0m \u001b[43m                                                \u001b[49m\u001b[43mdf_whole\u001b[49m\u001b[43m \u001b[49m\u001b[38;5;241;43m=\u001b[39;49m\u001b[43m \u001b[49m\u001b[43mdf_whole\u001b[49m\u001b[43m,\u001b[49m\u001b[43m \u001b[49m\n\u001b[1;32m     12\u001b[0m \u001b[43m                                                \u001b[49m\u001b[43mmargin_init\u001b[49m\u001b[43m \u001b[49m\u001b[38;5;241;43m=\u001b[39;49m\u001b[43m \u001b[49m\u001b[43mmargin_init\u001b[49m\u001b[43m,\u001b[49m\u001b[43m \u001b[49m\n\u001b[1;32m     13\u001b[0m \u001b[43m                                                \u001b[49m\u001b[43mmargin_ratio\u001b[49m\u001b[43m \u001b[49m\u001b[38;5;241;43m=\u001b[39;49m\u001b[43m \u001b[49m\u001b[43mmargin_ratio\u001b[49m\u001b[43m,\u001b[49m\u001b[43m \u001b[49m\n\u001b[1;32m     14\u001b[0m \u001b[43m                                                \u001b[49m\u001b[43mdf_pairs_wt_paras\u001b[49m\u001b[43m \u001b[49m\u001b[38;5;241;43m=\u001b[39;49m\u001b[43m \u001b[49m\u001b[43mdf_pairs_wt_paras\u001b[49m\u001b[43m,\u001b[49m\u001b[43m \u001b[49m\n\u001b[1;32m     15\u001b[0m \u001b[43m                                                \u001b[49m\u001b[43mib\u001b[49m\u001b[43m \u001b[49m\u001b[38;5;241;43m=\u001b[39;49m\u001b[43m \u001b[49m\u001b[43mib\u001b[49m\u001b[43m,\u001b[49m\n\u001b[1;32m     16\u001b[0m \u001b[43m                                                \u001b[49m\u001b[43mpair\u001b[49m\u001b[43m \u001b[49m\u001b[38;5;241;43m=\u001b[39;49m\u001b[43m \u001b[49m\u001b[43mpair\u001b[49m\u001b[43m)\u001b[49m\u001b[38;5;241m.\u001b[39mupdate_position_summary() \u001b[38;5;28;01mfor\u001b[39;00m pair \u001b[38;5;129;01min\u001b[39;00m df_sel\u001b[38;5;241m.\u001b[39mindex]\n\u001b[1;32m     18\u001b[0m df_current_future_positions \u001b[38;5;241m=\u001b[39m pd\u001b[38;5;241m.\u001b[39mDataFrame(ls_current_future_positions)\n\u001b[1;32m     20\u001b[0m df_current_future_positions[\u001b[38;5;124m\"\u001b[39m\u001b[38;5;124mstock1_order_numbers\u001b[39m\u001b[38;5;124m\"\u001b[39m] \u001b[38;5;241m=\u001b[39m df_current_future_positions[\u001b[38;5;124m\"\u001b[39m\u001b[38;5;124mstock1_future_numbers\u001b[39m\u001b[38;5;124m\"\u001b[39m] \u001b[38;5;241m-\u001b[39m df_current_future_positions[\u001b[38;5;124m\"\u001b[39m\u001b[38;5;124mstock1_current_numbers\u001b[39m\u001b[38;5;124m\"\u001b[39m]\n",
      "File \u001b[0;32m~/PairsTradingAutomation/lecture02/PairTrading_eng.py:297\u001b[0m, in \u001b[0;36mPairTradingUpdatePosition.__init__\u001b[0;34m(self, pair, df_whole_intraday, df_whole, margin_init, margin_ratio, df_pairs_wt_paras, ib)\u001b[0m\n\u001b[1;32m    293\u001b[0m zscore_threshold \u001b[38;5;241m=\u001b[39m df_pairs_wt_paras[df_pairs_wt_paras\u001b[38;5;241m.\u001b[39mindex \u001b[38;5;241m==\u001b[39m pair][\u001b[38;5;124m\"\u001b[39m\u001b[38;5;124mmedian_zscore_threshold\u001b[39m\u001b[38;5;124m\"\u001b[39m]\u001b[38;5;241m.\u001b[39miloc[\u001b[38;5;241m-\u001b[39m\u001b[38;5;241m1\u001b[39m]\n\u001b[1;32m    295\u001b[0m \u001b[38;5;28msuper\u001b[39m()\u001b[38;5;241m.\u001b[39m\u001b[38;5;21m__init__\u001b[39m(pair, df_whole_intraday, df_whole, window, zscore_threshold, margin_init, margin_ratio)\n\u001b[0;32m--> 297\u001b[0m \u001b[38;5;28;43mself\u001b[39;49m\u001b[38;5;241;43m.\u001b[39;49m\u001b[43mtrading_summary\u001b[49m\u001b[43m(\u001b[49m\u001b[43m)\u001b[49m\n\u001b[1;32m    298\u001b[0m \u001b[38;5;28mself\u001b[39m\u001b[38;5;241m.\u001b[39msignal \u001b[38;5;241m=\u001b[39m \u001b[38;5;28mint\u001b[39m(\u001b[38;5;28mself\u001b[39m\u001b[38;5;241m.\u001b[39mdf_signal_summary[\u001b[38;5;124m\"\u001b[39m\u001b[38;5;124msignal\u001b[39m\u001b[38;5;124m\"\u001b[39m]\u001b[38;5;241m.\u001b[39miloc[\u001b[38;5;241m-\u001b[39m\u001b[38;5;241m1\u001b[39m])\n\u001b[1;32m    299\u001b[0m \u001b[38;5;28mself\u001b[39m\u001b[38;5;241m.\u001b[39mdf_current_status \u001b[38;5;241m=\u001b[39m pd\u001b[38;5;241m.\u001b[39mDataFrame(ib\u001b[38;5;241m.\u001b[39mpositions())\n",
      "File \u001b[0;32m~/PairsTradingAutomation/lecture02/PairTrading_eng.py:226\u001b[0m, in \u001b[0;36mPairTrading.trading_summary\u001b[0;34m(self)\u001b[0m\n\u001b[1;32m    224\u001b[0m \u001b[38;5;28mself\u001b[39m\u001b[38;5;241m.\u001b[39mzscore_calculation()\n\u001b[1;32m    225\u001b[0m \u001b[38;5;28mself\u001b[39m\u001b[38;5;241m.\u001b[39msignal_calculation()\n\u001b[0;32m--> 226\u001b[0m \u001b[38;5;28;43mself\u001b[39;49m\u001b[38;5;241;43m.\u001b[39;49m\u001b[43msignal_summary\u001b[49m\u001b[43m(\u001b[49m\u001b[43m)\u001b[49m\n\u001b[1;32m    227\u001b[0m \u001b[38;5;28mself\u001b[39m\u001b[38;5;241m.\u001b[39mmargin_calculation()\n\u001b[1;32m    228\u001b[0m trading_result \u001b[38;5;241m=\u001b[39m {\n\u001b[1;32m    229\u001b[0m     \u001b[38;5;124m'\u001b[39m\u001b[38;5;124mpair\u001b[39m\u001b[38;5;124m'\u001b[39m: (\u001b[38;5;28mself\u001b[39m\u001b[38;5;241m.\u001b[39mstock1, \u001b[38;5;28mself\u001b[39m\u001b[38;5;241m.\u001b[39mstock2),\n\u001b[1;32m    230\u001b[0m     \u001b[38;5;124m'\u001b[39m\u001b[38;5;124mwindow\u001b[39m\u001b[38;5;124m'\u001b[39m: \u001b[38;5;28mself\u001b[39m\u001b[38;5;241m.\u001b[39mwindow,\n\u001b[1;32m    231\u001b[0m     \u001b[38;5;124m'\u001b[39m\u001b[38;5;124mzscore_threshold\u001b[39m\u001b[38;5;124m'\u001b[39m: \u001b[38;5;28mself\u001b[39m\u001b[38;5;241m.\u001b[39mzscore_threshold,\n\u001b[1;32m    232\u001b[0m     \u001b[38;5;124m'\u001b[39m\u001b[38;5;124mmargin\u001b[39m\u001b[38;5;124m'\u001b[39m: \u001b[38;5;28mself\u001b[39m\u001b[38;5;241m.\u001b[39mmargin\n\u001b[1;32m    233\u001b[0m }\n",
      "File \u001b[0;32m~/PairsTradingAutomation/lecture02/PairTrading_eng.py:140\u001b[0m, in \u001b[0;36mPairTrading.signal_summary\u001b[0;34m(self)\u001b[0m\n\u001b[1;32m    137\u001b[0m \u001b[38;5;28mself\u001b[39m\u001b[38;5;241m.\u001b[39mdf_signal_summary[\u001b[38;5;124m\"\u001b[39m\u001b[38;5;124mstock1_final_price\u001b[39m\u001b[38;5;124m\"\u001b[39m] \u001b[38;5;241m=\u001b[39m \u001b[38;5;28mself\u001b[39m\u001b[38;5;241m.\u001b[39mdf_signal_summary[\u001b[38;5;124m\"\u001b[39m\u001b[38;5;124mstock1_start_price\u001b[39m\u001b[38;5;124m\"\u001b[39m]\u001b[38;5;241m.\u001b[39mshift(\u001b[38;5;241m-\u001b[39m\u001b[38;5;241m1\u001b[39m)\n\u001b[1;32m    138\u001b[0m \u001b[38;5;28mself\u001b[39m\u001b[38;5;241m.\u001b[39mdf_signal_summary[\u001b[38;5;124m\"\u001b[39m\u001b[38;5;124mstock2_final_price\u001b[39m\u001b[38;5;124m\"\u001b[39m] \u001b[38;5;241m=\u001b[39m \u001b[38;5;28mself\u001b[39m\u001b[38;5;241m.\u001b[39mdf_signal_summary[\u001b[38;5;124m\"\u001b[39m\u001b[38;5;124mstock2_start_price\u001b[39m\u001b[38;5;124m\"\u001b[39m]\u001b[38;5;241m.\u001b[39mshift(\u001b[38;5;241m-\u001b[39m\u001b[38;5;241m1\u001b[39m)\n\u001b[0;32m--> 140\u001b[0m \u001b[38;5;28mself\u001b[39m\u001b[38;5;241m.\u001b[39mdf_signal_summary\u001b[38;5;241m.\u001b[39mloc[\u001b[38;5;28mself\u001b[39m\u001b[38;5;241m.\u001b[39mdf_signal_summary\u001b[38;5;241m.\u001b[39mindex[\u001b[38;5;241m-\u001b[39m\u001b[38;5;241m1\u001b[39m], \u001b[38;5;124m\"\u001b[39m\u001b[38;5;124mtime_end\u001b[39m\u001b[38;5;124m\"\u001b[39m] \u001b[38;5;241m=\u001b[39m \u001b[38;5;28;43mself\u001b[39;49m\u001b[38;5;241;43m.\u001b[39;49m\u001b[43mdf_pair\u001b[49m\u001b[38;5;241;43m.\u001b[39;49m\u001b[43mindex\u001b[49m\u001b[43m[\u001b[49m\u001b[38;5;241;43m-\u001b[39;49m\u001b[38;5;241;43m1\u001b[39;49m\u001b[43m]\u001b[49m\n\u001b[1;32m    141\u001b[0m \u001b[38;5;28mself\u001b[39m\u001b[38;5;241m.\u001b[39mdf_signal_summary\u001b[38;5;241m.\u001b[39mloc[\u001b[38;5;28mself\u001b[39m\u001b[38;5;241m.\u001b[39mdf_signal_summary\u001b[38;5;241m.\u001b[39mindex[\u001b[38;5;241m-\u001b[39m\u001b[38;5;241m1\u001b[39m], \u001b[38;5;124m\"\u001b[39m\u001b[38;5;124mstock1_final_price\u001b[39m\u001b[38;5;124m\"\u001b[39m] \u001b[38;5;241m=\u001b[39m \u001b[38;5;28mself\u001b[39m\u001b[38;5;241m.\u001b[39mdf_pair[\u001b[38;5;28mself\u001b[39m\u001b[38;5;241m.\u001b[39mstock1]\u001b[38;5;241m.\u001b[39miloc[\u001b[38;5;241m-\u001b[39m\u001b[38;5;241m1\u001b[39m]\n\u001b[1;32m    142\u001b[0m \u001b[38;5;28mself\u001b[39m\u001b[38;5;241m.\u001b[39mdf_signal_summary\u001b[38;5;241m.\u001b[39mloc[\u001b[38;5;28mself\u001b[39m\u001b[38;5;241m.\u001b[39mdf_signal_summary\u001b[38;5;241m.\u001b[39mindex[\u001b[38;5;241m-\u001b[39m\u001b[38;5;241m1\u001b[39m], \u001b[38;5;124m\"\u001b[39m\u001b[38;5;124mstock2_final_price\u001b[39m\u001b[38;5;124m\"\u001b[39m] \u001b[38;5;241m=\u001b[39m \u001b[38;5;28mself\u001b[39m\u001b[38;5;241m.\u001b[39mdf_pair[\u001b[38;5;28mself\u001b[39m\u001b[38;5;241m.\u001b[39mstock2]\u001b[38;5;241m.\u001b[39miloc[\u001b[38;5;241m-\u001b[39m\u001b[38;5;241m1\u001b[39m]\n",
      "File \u001b[0;32m/opt/miniconda3/envs/myenv-finance-mac/lib/python3.11/site-packages/pandas/core/indexes/base.py:5389\u001b[0m, in \u001b[0;36mIndex.__getitem__\u001b[0;34m(self, key)\u001b[0m\n\u001b[1;32m   5386\u001b[0m \u001b[38;5;28;01mif\u001b[39;00m is_integer(key) \u001b[38;5;129;01mor\u001b[39;00m is_float(key):\n\u001b[1;32m   5387\u001b[0m     \u001b[38;5;66;03m# GH#44051 exclude bool, which would return a 2d ndarray\u001b[39;00m\n\u001b[1;32m   5388\u001b[0m     key \u001b[38;5;241m=\u001b[39m com\u001b[38;5;241m.\u001b[39mcast_scalar_indexer(key)\n\u001b[0;32m-> 5389\u001b[0m     \u001b[38;5;28;01mreturn\u001b[39;00m \u001b[43mgetitem\u001b[49m\u001b[43m(\u001b[49m\u001b[43mkey\u001b[49m\u001b[43m)\u001b[49m\n\u001b[1;32m   5391\u001b[0m \u001b[38;5;28;01mif\u001b[39;00m \u001b[38;5;28misinstance\u001b[39m(key, \u001b[38;5;28mslice\u001b[39m):\n\u001b[1;32m   5392\u001b[0m     \u001b[38;5;66;03m# This case is separated from the conditional above to avoid\u001b[39;00m\n\u001b[1;32m   5393\u001b[0m     \u001b[38;5;66;03m# pessimization com.is_bool_indexer and ndim checks.\u001b[39;00m\n\u001b[1;32m   5394\u001b[0m     \u001b[38;5;28;01mreturn\u001b[39;00m \u001b[38;5;28mself\u001b[39m\u001b[38;5;241m.\u001b[39m_getitem_slice(key)\n",
      "File \u001b[0;32m/opt/miniconda3/envs/myenv-finance-mac/lib/python3.11/site-packages/pandas/core/arrays/datetimelike.py:381\u001b[0m, in \u001b[0;36mDatetimeLikeArrayMixin.__getitem__\u001b[0;34m(self, key)\u001b[0m\n\u001b[1;32m    374\u001b[0m \u001b[38;5;250m\u001b[39m\u001b[38;5;124;03m\"\"\"\u001b[39;00m\n\u001b[1;32m    375\u001b[0m \u001b[38;5;124;03mThis getitem defers to the underlying array, which by-definition can\u001b[39;00m\n\u001b[1;32m    376\u001b[0m \u001b[38;5;124;03monly handle list-likes, slices, and integer scalars\u001b[39;00m\n\u001b[1;32m    377\u001b[0m \u001b[38;5;124;03m\"\"\"\u001b[39;00m\n\u001b[1;32m    378\u001b[0m \u001b[38;5;66;03m# Use cast as we know we will get back a DatetimeLikeArray or DTScalar,\u001b[39;00m\n\u001b[1;32m    379\u001b[0m \u001b[38;5;66;03m# but skip evaluating the Union at runtime for performance\u001b[39;00m\n\u001b[1;32m    380\u001b[0m \u001b[38;5;66;03m# (see https://github.com/pandas-dev/pandas/pull/44624)\u001b[39;00m\n\u001b[0;32m--> 381\u001b[0m result \u001b[38;5;241m=\u001b[39m cast(\u001b[38;5;124m\"\u001b[39m\u001b[38;5;124mUnion[Self, DTScalarOrNaT]\u001b[39m\u001b[38;5;124m\"\u001b[39m, \u001b[38;5;28;43msuper\u001b[39;49m\u001b[43m(\u001b[49m\u001b[43m)\u001b[49m\u001b[38;5;241;43m.\u001b[39;49m\u001b[38;5;21;43m__getitem__\u001b[39;49m\u001b[43m(\u001b[49m\u001b[43mkey\u001b[49m\u001b[43m)\u001b[49m)\n\u001b[1;32m    382\u001b[0m \u001b[38;5;28;01mif\u001b[39;00m lib\u001b[38;5;241m.\u001b[39mis_scalar(result):\n\u001b[1;32m    383\u001b[0m     \u001b[38;5;28;01mreturn\u001b[39;00m result\n",
      "File \u001b[0;32m/opt/miniconda3/envs/myenv-finance-mac/lib/python3.11/site-packages/pandas/core/arrays/_mixins.py:284\u001b[0m, in \u001b[0;36mNDArrayBackedExtensionArray.__getitem__\u001b[0;34m(self, key)\u001b[0m\n\u001b[1;32m    278\u001b[0m \u001b[38;5;28;01mdef\u001b[39;00m \u001b[38;5;21m__getitem__\u001b[39m(\n\u001b[1;32m    279\u001b[0m     \u001b[38;5;28mself\u001b[39m,\n\u001b[1;32m    280\u001b[0m     key: PositionalIndexer2D,\n\u001b[1;32m    281\u001b[0m ) \u001b[38;5;241m-\u001b[39m\u001b[38;5;241m>\u001b[39m Self \u001b[38;5;241m|\u001b[39m Any:\n\u001b[1;32m    282\u001b[0m     \u001b[38;5;28;01mif\u001b[39;00m lib\u001b[38;5;241m.\u001b[39mis_integer(key):\n\u001b[1;32m    283\u001b[0m         \u001b[38;5;66;03m# fast-path\u001b[39;00m\n\u001b[0;32m--> 284\u001b[0m         result \u001b[38;5;241m=\u001b[39m \u001b[38;5;28;43mself\u001b[39;49m\u001b[38;5;241;43m.\u001b[39;49m\u001b[43m_ndarray\u001b[49m\u001b[43m[\u001b[49m\u001b[43mkey\u001b[49m\u001b[43m]\u001b[49m\n\u001b[1;32m    285\u001b[0m         \u001b[38;5;28;01mif\u001b[39;00m \u001b[38;5;28mself\u001b[39m\u001b[38;5;241m.\u001b[39mndim \u001b[38;5;241m==\u001b[39m \u001b[38;5;241m1\u001b[39m:\n\u001b[1;32m    286\u001b[0m             \u001b[38;5;28;01mreturn\u001b[39;00m \u001b[38;5;28mself\u001b[39m\u001b[38;5;241m.\u001b[39m_box_func(result)\n",
      "\u001b[0;31mIndexError\u001b[0m: index -1 is out of bounds for axis 0 with size 0"
     ]
    }
   ],
   "source": [
    "import pandas_market_calendars as mcal\n",
    "\n",
    "while True:\n",
    "    now = datetime.datetime.now(pytz.timezone('America/New_York'))\n",
    "    schedule = mcal.get_calendar('NYSE').schedule(start_date=now, end_date=now)\n",
    "    # if the schedule is empty, it is not a trading day so out from while loop\n",
    "    if len(schedule) == 0 or now.hour > 16:\n",
    "        break\n",
    "    stocks = [stock for pair in df_sel.index for stock in pair]\n",
    "    data_1d_1y = yf.download(tickers = stocks, period=\"1y\",interval=\"1d\", progress = False)['Adj Close']\n",
    "    data_5m_60d = yf.download(tickers = stocks, period=\"60d\",interval=\"5m\", progress = False)['Adj Close']\n",
    "    df_current_future_positions = get_positions_summary(stocks_to_trade = stocks_to_trade, df_pairs_wt_paras = df_sel, df_whole_intraday = data_5m_60d, df_whole = data_1d_1y, ib = ib, \n",
    "                                                        margin_ratio = 0.25)\n",
    "    ib_order_execute(df_current_future_positions = df_current_future_positions, df_trading_time = df_trading_time)\n",
    "    ib.sleep(60)\n",
    "    # if the time is after 4 PM, break the loop\n",
    "    if now.hour > 16:\n",
    "        break"
   ]
  }
 ],
 "metadata": {
  "kernelspec": {
   "display_name": "pairs-trading",
   "language": "python",
   "name": "python3"
  },
  "language_info": {
   "codemirror_mode": {
    "name": "ipython",
    "version": 3
   },
   "file_extension": ".py",
   "mimetype": "text/x-python",
   "name": "python",
   "nbconvert_exporter": "python",
   "pygments_lexer": "ipython3",
   "version": "3.11.8"
  }
 },
 "nbformat": 4,
 "nbformat_minor": 2
}
